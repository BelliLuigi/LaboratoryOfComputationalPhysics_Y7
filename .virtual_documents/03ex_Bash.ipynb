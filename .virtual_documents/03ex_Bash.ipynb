











get_ipython().run_cell_magic("bash", " # jupyterlab magic: from now on it's run as bash", """
mkdir students # create directory "students"

wget https://www.dropbox.com/scl/fibxv17nrbrl83vw6qrkiu9/LCP_22-23_students.csv?rlkey=47fakvatrtif3q3qw4q97p5b7&e=1 # download

cp 'LCP_22-23_students.csv?rlkey=47fakvatrtif3q3qw4q97p5b7' students # copying file

ls students

cd students/ #changing directory

vim 'LCP_22-23_students.csv?rlkey=47fakvatrtif3q3qw4q97p5b7'  #open file

mv 'LCP_22-23_students.csv?rlkey=47fakvatrtif3q3qw4q97p5b7' ./LCP2223stud.csv # change name

#b)

cat LCP2223stud.csv | grep "PoD" > Pod_stud.csv # cat file, then select lines w/ Pod and stdout to .csv file

cat Pod_stud.csv # show file

cat LCP2223stud.csv | grep "Physics" > Physics_stud.csv # same for physiscs

""")





get_ipython().getoutput("pwd")


get_ipython().run_cell_magic("bash", "", """##need to remove metadata
######### !!!!!!!sed -i "1d" LCP2223stud.csv !!!!!!!!!!#sed is Stream Editor, tool for search replace text in files; -i directly modifies the file; "1d" is command: 1 is  first line of the file, d deletes it; .csv file is the target. 

for i in {A..Z}; do grep -c "^$i" /home/gigi/LaboratoryOfComputationalPhysics_Y7/students/LCP2223stud.csv ; done # for cycle
# {A..Z} are all uppercase letter in alphabet. remember ; after for range. do also remember. grep -c, -c should be flag to count, count what you ask, count how many of that string he find. REGEX: ^ means start of the line, and $i is the iteration variable. 
# Remember ; and do, done



""")





get_ipython().run_cell_magic("bash", "", """
#!/bin/bash

cd /home/gigi/LaboratoryOfComputationalPhysics_Y7/students/ ##cd into right dir


variable=$(cat studbyinit.txt) # output of the previous script
a=0 # initializing comparator variable
letters=({A..Z}) # letters array
index=-1 # initializing index that show the corresponding letter
for i in $variable; do # normal cycle for 
	letter=${letters[$index]} # identifying corresponding letter
    if [ $i -gt $a ]; then # comparing iterator variable w/ comparator variable
		export a=$i # exporting a if i is greater than a
        export maxletter=$letter # exporting the corresponding letter
		echo $i, $maxletter > bigger.txt # echoing in bigger.txt, each echo cancel the previous, stdout is not in append mode (>>)
	fi # end of if
    ((index++)) # updating index two ++ be aware
done #done""")








#!/bin/bash
# need to replace spaces because space is understanded as newline
#sed -i 's/ //g' #flag -i to edit in place
#s means substitute, / / is space, /g is global
#run just one time lol.

var=$(cat LCP2223stud.csv)   #load file w/o header
n=1 # initialize module variable
ncycle=0 # number of the cycle
for i in $var; do # start for cycle
	if [ $n -le 18 ]; then # if module variable is less than 18
		echo $i >> group$ncycle.csv # load the student into file of n-th cycle
		n=$(( n + 1 )) # update module variable
		echo $n # show what is module variable
	else # if the module variable is greater than 18
		n=1 # restart the module variable to 1
		ncycle=$(( $ncycle + 1 )) 
        echo $i >> group$ncycle.csv # load the student into file of n+1-th cycle
	fi
done

ls group*.csv # show every file









get_ipython().run_cell_magic("bash", " ", """grep -v '^#' data.csv > data.txt # grep looks for pattern, -v select lines that do not match the pattern, stdout to data.txt
sed -i 's/,//g' data.txt ## sed manipulates file, -i edit file in place, regex string: s/ substitute, , chr searched, // nothing chr that subtistute, g is global flag, every , is subtituded not only first.""")





get_ipython().run_cell_magic("bash", "", """
cd /home/gigi/LaboratoryOfComputationalPhysics_Y7/students/ ##cd into right dir

nofeven=0 # initialize for variable that counts even numbers
var=$(cat data.txt)  # loads file
for line in $var; do # for takes lines as variable
    for i in $line; do # for each line i take single value
        a=$(( i % 2 )) # check if even
        if [ $a == 0 ]; then # if even then
            nofeven=$(( nofeven + 1)) # updating even counter
        fi # done
    done #done
done
echo $nofeven #echoes number of even numbers""")





get_ipython().run_cell_magic("bash", "", """
#!/bin/bash
#

cd /home/gigi/LaboratoryOfComputationalPhysics_Y7/students/ ##cd into right dir, do it always, do not use relative paths

nlines=$(wc -l < data.txt) # number of lines of data.txt, wc counts words, -l tells him to count lines, < data.txt stdin
bigger=0 # initialize bigger than variable
smaller=0 #init smaller-than variable
control=$( echo "scale=2; 100*sqrt(3)/2" | bc) #echo generates string, scale set number of decimals, sqrt calc square root, | bc evaluates the result of the previous string
for (( i=1; i<=nlines; i++)); do # for i starts from 1, it will be smaller than nlines, each cycle i is incremented by 1
	line=$(sed -n "${i}p" data.txt) # line is a line of data.txt, sed manipulates files, -n tells to not print all lines, "{i}p" print only i-th line
	xyz=$(echo $line | cut -d' ' -f1-3) # from stout of echo, cuts following delimited -d ' ', after the first three items -f1-3
	z=$(echo $xyz | cut -d' ' -f3) # same takes third
	y=$(echo $xyz | cut -d' ' -f2)# second
	x=$(echo $xyz | cut -d' ' -f1)#first
	z2=$(( z * z )) #squaring
	y2=$(( y * y ))
	x2=$(( x * x ))
	xyz2=$(( x2 + y2 + z2 )) #sum
	distance=$( echo "scale=2; sqrt(${xyz2})" | bc ) 
	if (( $(echo "$distance > $control" | bc -l) )); then
		((bigger++))
        echo $distance >> biggerthancontrol.txt
	else
		((smaller++))
        echo $distance >> smallerthancontrol.txt
	fi
done
echo "distance is bigger than control in $bigger entries"
echo "is smaller in $smaller entries"

""")





get_ipython().run_cell_magic("bash", "", """#!/bin/bash
#this is divider.sh, to launch do 
# !./divider.sh n
#probably one needs to do chmod -x or something

n=$1 #assign first cl arg to n, so i can chose how many copies to do
file=$(cat data.txt) # loads file in variable
for i in $(seq 1 $n); do # iterate in 1 through n, seq is sequence
	for d in $file; do # d is each item of file
		divided=$( echo "scale=2; $d/$i" | bc >> divdata${i}.txt ) #divides, stdout appended to divdata i
	done
done
""")
