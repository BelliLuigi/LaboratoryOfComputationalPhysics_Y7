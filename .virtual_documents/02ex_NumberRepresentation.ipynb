


def converter(n, base_in, base_out):
    def decto(n, baseout): # da decimale a 
        out_list = []
        if int(n) ==0: # per sicurezza
            return 0
        else:
            while n >= (0.1*base_out):
                numeri = "0123456789ABCDEF"
                resto = n%base_out
                resto = numeri[resto]
                out_list.append(resto)
                n //= base_out   
            return out_list
    def todec(n,base_in): # da base diversa a decimale
        out_list = []
        numeri = "0123456789ABCDEF"
        a = len(str(n))-1
        for i in str(n):
            if a >=0:
                i = numeri.index(i)
                out_list.append(int(i)*base_in**a)
                a -=1
            else:
                break
        number =0
        for i in out_list: # trasformare la list in stringa
            number = number + i
        return number
    valid = {10, 2, 16} #basi valide
    if base_in not in valid: #check basi valide
        return "Valid basis are 2 (binary), 10 (decimal), 16 (hexadecimal)"
    else:
        if base_out == 10:
            return todec(n,base_in)
        else:
            number_list = decto(n,base_out)
            a = ""
            for i in number_list:
                a = a+str(i)
            a = a[::-1]
            return a
            


print(converter(1436,10,16))
print(converter("59C",16,10))
print(converter(12,10,2))
print(converter(1100,2,10))
print(converter(1100,10,10))





a = "00000011111000000000000000000000"
def word2sfp(word):
    word = str(word)
    sign = word[0]
    exp = "0b" + word[1:9]
    mantissa = word[9::]
    dec_mantissa= 1
    e = -1
    for i in mantissa:
        if int(i) == 1: 
            cif = int(i)*2**e
            dec_mantissa += cif
        e -=1
    exp = int(exp,2)
    sign = int(sign)
    number =  (-1)**sign*dec_mantissa*2**(exp-127)
    return number





from math import isinf
from numba import jit
@jit
def overunder(a,b):  
    expup = 0
    expdown = 0
    while not isinf(a):
        a*=2
        expup+=1
    while b != float(0.0):
        b/=2
        print(b)
        expdown-=1
    return expup, expdown

b = float(1)
a = float(1)
overunder(a,b)






a = 1
i =0
while True:
    b = a
    a += 2**(-i)
    i +=1
    print(a,i)
    if a==b:
        break















