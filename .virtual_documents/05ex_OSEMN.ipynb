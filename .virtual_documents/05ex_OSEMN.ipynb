


get_ipython().run_line_magic("matplotlib", " inline")
import pandas as pd
import numpy as np





import numpy.random as npr

np.set_printoptions(precision=2) # 4 readability

simple_data = npr.random((10,10)) #10x10 matrix
#print(simple_data)
simple_data_str = str(simple_data) #make it string
simple_data_str = simple_data_str.replace('[', '') #replacing
simple_data_str = simple_data_str.replace(']', '')
#print(simple_data_str.find('\n'))

f = open('simple_data.txt', 'w') 
f.write(str(simple_data_str))
f.close()





randmat = npr.random((5,5)) *3.2
strandmat = str(randmat)
strandmat = strandmat.replace('[', '')
strandmat = strandmat.replace(']', '')
f = open('data.txt', 'w')
f.write(strandmat)
f.close()





import re


file = open('data.txt','r')
sfile = file.read()
commafile = re.sub(r'(?<=[0-9]) ', ',', sfile) #look behind thing. THe thing inside the parentesis is part of the pattern but it is not substituted.
print(commafile)
file.close()
commas = open('data.csv', 'w')
commas.write(commafile)
commas.close()





with  open('credit_card.dat','rb') as file:
    file_content=file.read()
    file_content = str(file_content).replace('b','').replace("'", "").split(r"\n")


listofcc = []
for cc in file_content: # chr(int(str(char),2))
    ccn = ''
    for char in range(0,len(cc)-4,6):
        ccn += chr(int(str(cc[char:char+6]),2))
    listofcc.append(ccn)
listofcc = listofcc[:-2]





user_data = json.load(open('user_data.json'))
American_Express_users = [user for user in user_data if user['CreditCardType'] == 'American Express']

list = [','.join(map(str, user.values())) + '\n' for user in American_Express_users]



import json
data = json.load(open('user_data.json'))
amex_usr = [i for i in data if i['CreditCardType']=='American Express']

with open('American_Express_users.csv', 'w') as f:
    for user in amex_usr:
        f.write(','.join(map(str, user.values())) + '\n')










import pandas as pd

url = "https://www.dropbox.com/s/7u3lm737ogbqsg8/mushrooms_categorized.csv?dl=1"
df = pd.read_csv(url)

df


df.hist('class')
## there are only two classes, with almost the same population






