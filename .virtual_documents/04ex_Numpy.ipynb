





import numpy as np
m = np.arange(12).reshape((3,4))
mean_rows = np.mean(m, axis=1)
mean_columns = m.mean(axis=0)
mean_overall = m.mean()
print(m, '\n',mean_rows, '\n', mean_columns, '\n', mean_overall)






u = np.array([1,3,5,7])
v = np.array([2,4,6,8])

#outer
a = np.outer(u,v)
print("w/ outer \n", a, "\n")


#nested for loop
nested = np.zeros((4,4))
#print(nested)
for i in np.arange(4):
    for j in np.arange(4):
        element = u[i]*v[j]
        nested[(i,j)] = element
print(nested)

##list comprehension
lista = [i*j for i in u for j in v]
prdlist = np.array(lista).reshape(4,4)
print(prdlist)

#broadcasting
u_c = u.copy()
v_c = v.copy()
v_c = v_c.reshape(4,1) #4 rows, 1 column
print(u_c, '\n', v_c, '\n',u_c * v_c) #broadcasting is not commutative.
#probably obvious but i'm glad to emphasize






import numpy.random as npr

#randmat = npr.rand(size=(10,6))
randmat = npr.rand(10,6)
#print(randmat.shape)
print(randmat)
#mask = np.where(randmat<0.1, 0,1)
c = np.any(randmat<0.1, axis = 1) #1 are rows
randmat[c] = 0 # applies this kind of mask c
print(randmat)





import matplotlib.pyplot as plt

duepigreco = np.linspace(0,(2*np.pi), 100) #making linspace
duepigreco_10 = duepigreco[9::10] # extracting every 10, 9 is start, no stop, step is 10 [start:stop:step]
#print(duepigreco, '\n',duepigreco_10)
duepigreco_rev = duepigreco[::-1] #reversing it using slice
#print(duepigreco[0], duepigreco_rev[0])
epsilon = 0.1 #setting epsilon
sin_duep = np.sin(duepigreco) # applying functions to array
cos_duep = np.cos(duepigreco)
difference = abs(sin_duep - cos_duep) # subtracting two different arrays
mask = (difference < 0.1) # masking the difference. I think it is interesting that it is so easy to make a mask. = (array opreator condition) = mask
#print(mask)
#print(mask)
extracted = duepigreco[mask] # applying the mask
#print(extracted)




plt.plot(duepigreco,sin_duep, 'o' , label = 'sin')
plt.plot(duepigreco, cos_duep, 'o', label = 'cos')
plt.plot(extracted, sin_duep[mask], 'o' , label = 'close')
plt.legend()
plt.show()





a = np.arange(1,11,1) #will use broadcasting
col = a.copy().reshape(10,1) # reshaping copy of a to make it vertical
benten = a * col # multiplication & broadcasting
trace = np.trace(benten)
#antitrace = np.trace(benten[::-1])
antodiagonal= np.diag(benten[::-1]) # antodiagonal is the diagonal of horizontally flipped matrix
print(antodiagonal)
offdiag = np.diag(benten[1::])# offset diagonal is diagonal of matrix w/o first column/firs row, idc bc it's symmetrical matrix
print(offdiag)






cities = ["Chicago", "Springfield", "Saint-Louis", "Tulsa", "Oklahoma City", "Amarillo", "Santa Fe", "Albuquerque", "Flagstaff", "Los Angeles"] #not useful
mileage = [0, 198, 303, 736, 871, 1175, 1475, 1544, 1913, 2448] # mileage list
table = abs(np.array(mileage) - np.array(mileage).reshape(len(mileage),1)) #broadcasting abs difference btw same vector but one is transposed.
table_km = table * 1.6 # converting in km more or less
table_km





import time
#N = 100
#numbers = np.arange(0,N)
#mask = np.tile( True , len(numbers))
##print(numbers,mask)
#mask[0] = False
#mask[1] = False
#for i in numbers[2:]:
#    for j in numbers[2:]:
#            if i*j < N: # the thing is, if a number is not i*j it must be prime
#                mask[i*j] = False

#print('prime numbers are', numbers[mask])


def primefinder(N):
    numbers = np.arange(0,N)
    mask = np.tile( True , len(numbers))
    mask[0] = False
    mask[1] = False
    for i in numbers[2:]:
        for j in numbers[2:]:
            if i*j < N: # the thing is, if a number is not i*j it must be prime
                mask[i*j] = False
    return numbers[mask]

def how_much_time(f, N):
    start = time.time()
    f(N)
    end = time.time()
    return end - start

scale = np.linspace(2,10000,10, dtype=int)
time = [how_much_time(primefinder, i) for i in scale]

plt.plot(scale,time)

#it scales exponentially


import time
def eratosthenes(N):
    sieve = np.ones((N,), dtype = bool)
    sieve[:2] = False
    for i in range(2, int(np.sqrt(N))):
        if sieve[i]:
            sieve[i*i : N : i] = False
    return np.arange(0, N)[sieve]

scale = np.linspace(2,10000,10, dtype=int)
time = [how_much_time(eratosthenes, i) for i in scale]
plt.plot(scale,time)

# it is so much faster








import matplotlib.pyplot as plt

distance= np.arange(0,10000) # this is the distance walked
walkers = 1000 # # of walkers
wlk = npr.randint(0,2, size=(walkers,len(distance)))*2 -1 # array that as 1 or -1 for each wlkr and step in time


wlk_x = np.tile(distance, (walkers,1)) # wlkers move also along x axis. 
wlk_y = np.cumsum(wlk, axis =1) # cumulative distnace jumped on y axis for each wlkr for each step in time
#print(wlk[:10,:10], '\n', wlk_y[:10,:10])
wlk_x2 = wlk_x**2 #squaring 
wlk_y2 = wlk_y**2
wlk_vec2 = wlk_x2 + wlk_y2 # pitagora theorem^2
wlk_mean2 = np.mean(wlk_vec2, axis = 0) # mean square distance for each step in time, sum along columns
wlk_mean = np.sqrt(wlk_mean2) # mean distance 


plt.plot(distance, wlk_mean, '-', label="average distance") #plot
plt.xlabel('Steps in time')
plt.ylabel('Distance walked')

#godddamn I'm pretty sure that i understood the assignment but others do differently.





np.set_printoptions(precision = 2)  #To make the output more readable

array = np.loadtxt('04-9.txt')
pops = array[:,1::]
years = array[:,0]
hares = array[:,1]
lynxes = array[:,2]
carrots = array[:,3]
plt.plot(years,hares, label = 'hares')
plt.plot(years, lynxes, label = 'lynxes')
plt.plot(years,carrots, label = 'carrots')
plt.legend()
plt.xlabel('years')
plt.ylabel('population')

means = np.mean(pops, axis = 0)
std = np.std(pops, axis = 0)
correlations = np.corrcoef(pops, rowvar=False)
medians = np.median(pops, axis = 0)
mins = np.min(pops, axis = 0)
maxs = np.max(pops, axis = 0)
print(f'means : {means}\n std: {std}\n correlation coefficients: \n{correlations}\n medians: {medians}\n mins: {mins}\n maxs: {maxs}')


len(years)



