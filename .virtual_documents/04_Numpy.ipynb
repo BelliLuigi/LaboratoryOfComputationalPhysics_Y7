


import numpy as np # import naming convention








# standard python
L = range(1000)
get_ipython().run_line_magic("timeit", " [i**2 for i in L]")

# numpy
a = np.arange(1000)
get_ipython().run_line_magic("timeit", " a**2")





# The type should specified when the array is created
a = np.array([1, 2, 3], 'float64')
print(a, a.dtype, '\n')
a = np.array([1, 2, 3], 'uint32')
print(a, a.dtype, '\n')

# Alternatively, we can let python to infer the type: 
a = np.array([1, 2, 3.3])
print(a, a.dtype, '\n')

# Also complex numbers are allowed
a = np.array([1+2j, 3+4j, 5+6*1j])
print (a, a.dtype, '\n')

# Booleans
a = np.array([True, False, False, True])
print(a, a.dtype, '\n')

# Non-numerical types are also allowed: strings
a = np.array(['bonjour messieurs et dames', 'Hello', 'Hallo'])
print(a, a.dtype, '\n')






a1 = np.array([0, 1, 2, 3])
print("array: \n", a1)
print("rank:", a1.ndim)
print("shape:", a1.shape)
print("size of the first dimension (axis):", len(a1)) # not recommended in >1D





a2_3 = np.array([[0, 1, 2], [3, 4, 5]])
print("2 x 3 array: \n", a2_3)
print("rank:", a2_3.ndim)
print("shape:", a2_3.shape)
print("size of the first dimension (axis):", len(a2_3))





a2_3_4 = np.array([[[1, 10, 100, 1000], [2, 20, 200, 2000], [3, 30, 300, 3000]], 
                   [[4, 40, 400, 4000], [5, 50, 500, 5000], [6, 60, 600, 6000]]])
print("2 x 3 x 4 array:\n", a2_3_4)
print("rank:", a2_3_4.ndim)
print("shape:", a2_3_4.shape)
print("size of the first dimension (axis):", len(a2_3_4))








l = [0, 1, 2, 3]
a = np.array(l)
print(a.tolist(), type(a.tolist()))





# evenly spaced:
print(np.arange(1, 9, 2)) # same as "range": start, end (exclusive), step

# or by number of points:
print(np.linspace(0, 1, 201)) # start, end, num-points (to be used for plotting f(x))





# 3x3 matrix of 1's
ones = np.ones((3, 3))
print(ones, '\n')

# 2x2 matrix of 0's
zeros = np.zeros((2, 2))
print(zeros, '\n')

# 3x3 unitary matrix
unity3d = np.eye(3)
#unity3d = np.identity(3) # np.identity calls np.eye, so the two are equivalent
print(unity3d, '\n')

# generic diagonal matrix
diagonal = np.diag(np.array([1, 20, 3, 4]))
print(diagonal, '\n')

# from list comprehensions
array = np.array([(i, j) for i in range(2) for j in range(3)])
print(array, '\n')

# from a function
fromfunct = np.fromfunction(lambda i, j: (i - 2)**2 + (j - i)**2, (5, 5))
print(fromfunct, '\n')





a = np.arange(0, 6)
m = a.reshape(3, 2) 
# N.B.: if the parameters of the reshaping are not appropriate, reshaping fails
print(m.shape)
print("original:", a, '\n')
print("reshaped:", m, '\n')

a_from_m = m.flatten()
print("flattened array (back to original):", a_from_m, '\n')





# 1D concatenation
a = np.array([1, 2])
b = np.array([3, 4, 5, 6])
c = np.array([7, 8, 9])
print("1D concatenation:", np.concatenate((a, b, c)),'\n')

# nD concatenation
a = np.array([[1, 2], [3, 4]])
b = np.array([[5, 6], [7, 8]])
# if no axis is specified, concatenations occurs on the 1st dimension
print("default 2D concatenation:",'\n', np.concatenate((a, b)),'\n')

print("concatenation along the first axis:",'\n', np.concatenate((a, b), axis=0), '\n')
print("concatenation along the second axis:",'\n', np.concatenate((a, b), axis=1), '\n')








a = np.array([1, 2, 3])
b = a # this is a view

c = a.copy() # this is a copy


# The changes applied to the array a modify also the array b 
# (which, as a matter of fact, are the same PyObject)
a[0] = 7
print(a, b, c)

# ... and viceversa
b[1] = 7
print(a, b, c)

# changes on c do not modify the array a
c[0] = 9
print(a, b, c)

# The python object is the same for a and b, but different for c:
print("Are a and b the same object?", np.may_share_memory(a, b))
print("Are a and c the same object?", np.may_share_memory(a, c))

# Exercise: check if np.array.reshape returns a view or a copy










a = np.arange(10)
print(a[0], a[2], a[-1])

# reminder: the [start:stop:step] works as well.
# step can be negative and a reverse sequence is thus obtained
print(a[2:9:3])
print(a[::-1])


from IPython.display import Image
Image("numpy_indexing.png")


# Exercise: create here the np array used as example above
a = np.array( [ int(str(i)+str(j)) for i in range(6) for j in range(6)]).reshape(6,6)
a








a = np.diag(np.arange(3))
print(a, '\n')
print(a[1, 1], '\n')
print(a[2], '\n')

# slice the original array, creating a view
b = a[1:, 1:]
print(b, '\n')

# modifying the view also modifies the original array
b[-1, -1] = 10
print(a, '\n')

# check if b is actually a view of a
print("Are a and b the same object?", np.may_share_memory(a, b))





a = np.arange(0, 21, 2)
print("original array:", a,'\n')

mask = (a % 3 == 0)
print("the mask:", mask,'\n')

filtered_a = a[mask]
# equivalent to a[a%3==0]
print("the filtered array:", filtered_a,'\n')

# verify that fancy indexing creates copies
print("Are a and filtered_a the same object?", np.may_share_memory(a, filtered_a), '\n')

# Indexing with a mask can be very useful to assign a new value to a sub-array
a[a % 3 == 0] = -1
print("the modified array:", a, '\n')





a = np.arange(0, 100, 10)
l = [2, 3, 2, 4, 2] # l is a python list
print("selection of indexes: ", a[l], '\n')






a = np.arange(0, 20, 2)
idx = np.array([[3, 4],[9, 7]]) # note the shape and the ordering
print(a[idx])


# an exstensive example
from IPython.display import Image
Image("numpy_fancy_indexing.png")





# operations with scalars
a = np.arange(4)
print(a, '\n')
print(a * 5, '\n')
print(2**a, '\n')


# operations among 1D arrays. Also in this case, all operations are element-wise
a = np.arange(4)
b = np.ones(4) + 1
print(a, b)
print("a - b:", a - b)
print("a * b:", a * b)





ones = np.ones((3,3))
print ('the original matrix:','\n',ones,'\n')

print ('the "*" product: ','\n',ones*np.eye(3),'\n')

print ('the proper matrix product: ','\n',ones.dot(np.eye(3)),'\n')





# element-wise
print('equal?:', np.array([1, 3, 2, 5]) == np.array([3, 1, 2, 5]))
print('greater than?:', np.array([1, 3, 2, 5]) > np.array([3, 1, 2, 1]))

# array-wise
print(np.array_equal(np.array([1, 3, 2, 5]), np.array([3, 1, 2, 1])))





# logical
a = np.array([1, 1, 0, 0], bool)
b = np.array([1, 0, 1, 0], bool)
print("logical OR:", np.logical_or(a, b))
print("logical AND:", np.logical_and(a, b))





# mathematical functions re-implemented in numpy
a = np.arange(1, 9)
print("sin:", np.sin(a))
print("log:", np.log(a))

# works all dimensions
m = a.reshape(2, 4)
print("exp:", np.exp(m))





# extracting off-diagonal terms
print(np.arange(16).reshape(4,4))
#a = np.tril(np.arange(16).reshape(4, 4), -1) # play with the last parameter (sign and value)
a= np.triu(np.arange(16).reshape(4, 4), 0) # play with the last parameter (sign and value)
print ("a:", '\n', a , '\n')

print ("transpose:", '\n', a.T , '\n') # a.T is a view








a = np.arange(1,7)
print(a)
print("sum:", a.sum(), np.sum(a))
print("min:", a.min(), np.min(a))
print("max:", a.max(), np.max(a))
print("index of the minimum argument:", a.argmin(), np.argmin(a))
print("index of the maximum argument:", a.argmax(), np.argmax(a))
print("mean:", a.mean(), np.mean(a))
print("median:", np.median(a)) # median is not a method of the array class..
print("standard deviation:", a.std(), np.std(a))
# and many others...


# these functions work in higher dimensions, too

m = a.reshape(3,2)
print(m, '\n')

print("sum along the columns:", m.sum(axis=0))
print("sum along the rows:", m.sum(axis=1))





from IPython.display import Image
Image("numpy_broadcasting.png")


a = np.tile(np.arange(0, 40, 10), (3, 1)).T # check what exactly np.tile does on the documentation 
print("original array:", '\n', a, '\n')
print("broadcasted sum :", '\n', a + np.arange(3), '\n')





# adding a dimension (useful for linear algebra)
print("new dim along axis 1:", '\n', np.arange(1,4)[:,np.newaxis], '\n')
print("new dim along axis 0:", '\n', np.arange(1,4)[np.newaxis,:], '\n')

# resizing
print ("resizing:", '\n', np.resize(np.arange(4), (9,)), '\n')






import numpy.random as npr
npr.seed(123) # fix seed for reproducible result





# random values from a uniform distrubtion in [0.0, 1.0) for a given shape
print ("uniform:",'\n', npr.rand(3,4),'\n') # shape=(3,4)
 
# random values from a standard normal distrubtion  for a given shape
print ("normal:",'\n', npr.randn(2,5),'\n') # shape=(2,5)

# random integers between "low" and "high" edges for a given shape (size)
print ("integers:",'\n', npr.randint(1,50,size=(3,6)),'\n') # shape=(3,6)





# randomly shuffling a vector
x = np.arange(10)
npr.shuffle(x)
print ("reshuffling:",'\n', x,'\n')
# npr.permutation works similarly

# Generates a random sample from a given 1-D array (without replacement)
x = np.arange(10,20)
print ("choice w/o replace",'\n',npr.choice(x, 10, replace=False),'\n')

# Generates a random sample of a given dimension from a given 1-D array
print ("choice w/ replace",'\n',npr.choice(x, (5, 10), replace=True),'\n') # this is default





# exponential
print ("exponential:",'\n', npr.exponential(10, size=(3,2)),'\n')


# tossing a dice
roll = 1./6
x = npr.multinomial(20000, [roll]*6, size=2)
print ("frequencies of 6-faces dice tossing (two players):",'\n', x)


# toy example - estimating pi inefficiently
n = int(1e6)
x = npr.uniform(-1,1,(n,2))
4.0*np.sum(x[:,0]**2 + x[:,1]**2 < 1)/n



