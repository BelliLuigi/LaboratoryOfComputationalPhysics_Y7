{
 "cells": [
  {
   "cell_type": "markdown",
   "id": "b314f3f7-befe-4cf5-bb59-a608977a9ebb",
   "metadata": {},
   "source": [
    "# Projects"
   ]
  },
  {
   "cell_type": "code",
   "execution_count": null,
   "id": "629ed840-9bf7-464f-b6f7-9c49c919956f",
   "metadata": {},
   "outputs": [],
   "source": []
  }
 ],
 "metadata": {
  "kernelspec": {
   "display_name": "Python 3 (ipykernel)",
   "language": "python",
   "name": "python3"
  },
  "language_info": {
   "codemirror_mode": {
    "name": "ipython",
    "version": 3
   },
   "file_extension": ".py",
   "mimetype": "text/x-python",
   "name": "python",
   "nbconvert_exporter": "python",
   "pygments_lexer": "ipython3",
   "version": "3.12.4"
  }
 },
 "nbformat": 4,
 "nbformat_minor": 5
}
