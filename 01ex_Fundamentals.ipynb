{
 "cells": [
  {
   "cell_type": "markdown",
   "metadata": {},
   "source": [
    "0\\. Implement a function (whatever you want) and save it to a file (e.g. `function.py`). Import that file and use that function in this notebook.\n"
   ]
  },
  {
   "cell_type": "code",
   "execution_count": 1,
   "metadata": {},
   "outputs": [],
   "source": [
    "from function import fpy #file saved in the same\n",
    "#directory as function.py"
   ]
  },
  {
   "cell_type": "code",
   "execution_count": 3,
   "metadata": {},
   "outputs": [
    {
     "data": {
      "text/plain": [
       "4"
      ]
     },
     "execution_count": 3,
     "metadata": {},
     "output_type": "execute_result"
    }
   ],
   "source": [
    "fpy(4) "
   ]
  },
  {
   "cell_type": "markdown",
   "metadata": {},
   "source": [
    "1\\. Write the following as a list comprehension"
   ]
  },
  {
   "cell_type": "code",
   "execution_count": 5,
   "metadata": {},
   "outputs": [
    {
     "name": "stdout",
     "output_type": "stream",
     "text": [
      "[(0, 0), (0, 1), (0, 2), (0, 3), (1, 0), (1, 1), (1, 2), (1, 3), (2, 0), (2, 1), (2, 2), (2, 3)]\n",
      "[0, 4, 16]\n"
     ]
    }
   ],
   "source": [
    "# 1\n",
    "ans = []\n",
    "for i in range(3):\n",
    "    for j in range(4):\n",
    "        ans.append((i, j))\n",
    "print (ans)\n",
    "\n",
    "# 2\n",
    "ans = map(lambda x: x*x, filter(lambda x: x%2 == 0, range(5)))\n",
    "print (list(ans))\n",
    "\n"
   ]
  },
  {
   "cell_type": "markdown",
   "metadata": {},
   "source": [
    "####  Solution ex 1"
   ]
  },
  {
   "cell_type": "code",
   "execution_count": 6,
   "metadata": {},
   "outputs": [
    {
     "name": "stdout",
     "output_type": "stream",
     "text": [
      "[(0, 0), (0, 1), (0, 2), (0, 3), (1, 0), (1, 1), (1, 2), (1, 3), (2, 0), (2, 1), (2, 2), (2, 3)]\n",
      "[0, 4, 16]\n"
     ]
    }
   ],
   "source": [
    "ans_comp = [ (i,j) for i in range(3) for j in range(4)]\n",
    "print(ans_comp)\n",
    "\n",
    "dans_comp = [ i*i for i in range(5) if i%2==0]      \n",
    "print(dans_comp)"
   ]
  },
  {
   "cell_type": "markdown",
   "metadata": {},
   "source": [
    "2\\. Convert the following function into a pure function with no global variables or side effects"
   ]
  },
  {
   "cell_type": "code",
   "execution_count": 20,
   "metadata": {},
   "outputs": [
    {
     "name": "stdout",
     "output_type": "stream",
     "text": [
      "[1, 2, 3, 0, 1, 2, 3, 4]\n",
      "[1, 2, 3, 0, 1, 2, 3, 4]\n"
     ]
    }
   ],
   "source": [
    "x = 5\n",
    "def f(alist):\n",
    "    for i in range(x):\n",
    "         alist.append(i)\n",
    "    return alist\n",
    "\n",
    "alist = [1,2,3]\n",
    "ans = f(alist)\n",
    "print (ans)\n",
    "print (alist) # alist has been changed!\n",
    "\n",
    "def f2(x): #not correct!! SEE BELOW\n",
    "    alist = [1,2,3] + [i for i in range(x)]\n",
    "    return alist\n",
    "\n",
    "\n"
   ]
  },
  {
   "cell_type": "code",
   "execution_count": 8,
   "metadata": {},
   "outputs": [
    {
     "name": "stdout",
     "output_type": "stream",
     "text": [
      "[1, 2, 3, 0, 1, 2, 3, 4]\n",
      "[1, 2, 3]\n"
     ]
    }
   ],
   "source": [
    "def f(alist,x):## This ONE!!!\n",
    "    copy = alist.copy()\n",
    "    copy += [i for i in range(x)]\n",
    "    return copy\n",
    "\n",
    "blist = [1,2,3]\n",
    "blast = f(blist,5)\n",
    "print(blast)\n",
    "print(blist)"
   ]
  },
  {
   "cell_type": "markdown",
   "metadata": {},
   "source": [
    "3\\. Write a `decorator` hello that makes every wrapped function print “Hello!”, i.e. something like:\n",
    "\n",
    "```python\n",
    "@hello\n",
    "def square(x):\n",
    "    return x*x\n",
    "```\n",
    "\n"
   ]
  },
  {
   "cell_type": "code",
   "execution_count": 11,
   "metadata": {},
   "outputs": [
    {
     "name": "stdout",
     "output_type": "stream",
     "text": [
      "Hello!\n"
     ]
    },
    {
     "data": {
      "text/plain": [
       "9"
      ]
     },
     "execution_count": 11,
     "metadata": {},
     "output_type": "execute_result"
    }
   ],
   "source": [
    "def hello(function):\n",
    "    def wrapp(*args, **kwargs): \n",
    "        print(\"Hello!\")\n",
    "        return function(*args,**kwargs)\n",
    "    return wrapp\n",
    "\n",
    "@hello\n",
    "def anyfunction(a,b):\n",
    "    return a+b\n",
    "\n",
    "a = anyfunction(5,4)\n",
    "a"
   ]
  },
  {
   "cell_type": "markdown",
   "metadata": {},
   "source": [
    "4\\. Write the factorial function so that it a) does and b) does not use recursion."
   ]
  },
  {
   "cell_type": "raw",
   "metadata": {},
   "source": [
    "def factorial(a,variant): ##not working\n",
    "    if variant == 1:\n",
    "        print(\"mode\", variant)\n",
    "        recurs= [i for i in range(int(a)+1)]\n",
    "        if a == 0 or a == 1:\n",
    "            a = 1\n",
    "        else: \n",
    "            for a in range(1,a+1):\n",
    "                a = a*x\n",
    "        return a\n",
    "    else:\n",
    "        if a != 1 and a != 0:\n",
    "            a = x*factorial(a-1,2)\n",
    "        else: \n",
    "            a = a\n",
    "    return a"
   ]
  },
  {
   "cell_type": "code",
   "execution_count": 30,
   "metadata": {},
   "outputs": [],
   "source": [
    "def factorial(variabile, variante): ## working\n",
    "    if variabile == (0 or 1): \n",
    "        return 1\n",
    "    if variante == 1: #recursive\n",
    "        #print('1 = recursive')\n",
    "        variabile = variabile*factorial(variabile-1,1)\n",
    "        return variabile\n",
    "    if variante !=1:#not recursive\n",
    "        #print(f'{variante} = not recursive')\n",
    "        a = 1\n",
    "        for i in range(1,variabile+1):\n",
    "            a = a*i\n",
    "        return a"
   ]
  },
  {
   "cell_type": "code",
   "execution_count": 32,
   "metadata": {},
   "outputs": [
    {
     "data": {
      "text/plain": [
       "2"
      ]
     },
     "execution_count": 32,
     "metadata": {},
     "output_type": "execute_result"
    }
   ],
   "source": [
    "factorial(2,1)"
   ]
  },
  {
   "cell_type": "markdown",
   "metadata": {},
   "source": [
    "5\\. Use HOFs (zip in particular) to compute the weight of a circle, a disk and a sphere, assuming different radii and different densities:\n",
    "\n",
    "```python\n",
    "\n",
    "```\n",
    "\n",
    "where the entries of the dictionary's values are the linear, superficial and volumetric densities of the materials respectively.\n",
    "\n",
    "In particular define a list of three lambda functions using a comprehension that computes the circumference, the area and the volume for a given radius.\n"
   ]
  },
  {
   "cell_type": "code",
   "execution_count": 46,
   "metadata": {},
   "outputs": [],
   "source": [
    "from math import pi\n",
    "densities = {\"Al\":[0.5,1,2],\"Fe\":[3,4,5],\"Pb\": [15,20,30]}\n",
    "radii = [1,2,3]\n"
   ]
  },
  {
   "cell_type": "code",
   "execution_count": 47,
   "metadata": {},
   "outputs": [
    {
     "name": "stdout",
     "output_type": "stream",
     "text": [
      "first three are Al, then Fe and lastly Pb\n",
      " circle [3.141592653589793, 6.283185307179586, 9.42477796076938, 18.84955592153876, 37.69911184307752, 56.548667764616276, 94.24777960769379, 188.49555921538757, 282.7433388230814] \n",
      " disk [3.141592653589793, 12.566370614359172, 28.274333882308138, 12.566370614359172, 50.26548245743669, 113.09733552923255, 62.83185307179586, 251.32741228718345, 565.4866776461628] \n",
      " sphere [8.377580409572781, 67.02064327658225, 226.19467105846508, 20.94395102393195, 167.5516081914556, 565.4866776461627, 125.66370614359171, 1005.3096491487337, 3392.920065876976]\n"
     ]
    }
   ],
   "source": [
    "circle = [densities[i][0]*j*pi*2 for i in densities.keys() for j in radii ] ## NOOO. SEE CELL BELOW!!!!! :)\n",
    "disk = [densities[i][1]*(j**2)*pi for i in densities.keys() for j in radii ]\n",
    "sphere = [densities[i][2]*(j**3)*pi*(4./3.) for i in densities.keys() for j in radii ]\n",
    "\n",
    "print('first three are Al, then Fe and lastly Pb\\n', 'circle',circle,'\\n disk', disk, '\\n sphere', sphere)"
   ]
  },
  {
   "cell_type": "code",
   "execution_count": 61,
   "metadata": {
    "tags": []
   },
   "outputs": [
    {
     "name": "stdout",
     "output_type": "stream",
     "text": [
      "Weight of circle with radius 1 are \n",
      " {'Al': 3.141592653589793, 'Fe': 18.84955592153876, 'Pb': 94.24777960769379}\n",
      "Weight of circle with radius 2 are \n",
      " {'Al': 6.283185307179586, 'Fe': 37.69911184307752, 'Pb': 188.49555921538757}\n",
      "Weight of circle with radius 3 are \n",
      " {'Al': 9.42477796076938, 'Fe': 56.548667764616276, 'Pb': 282.7433388230814}\n",
      "Weight of disk with radius 1 are \n",
      " {'Al': 3.141592653589793, 'Fe': 12.566370614359172, 'Pb': 62.83185307179586}\n",
      "Weight of disk with radius 2 are \n",
      " {'Al': 12.566370614359172, 'Fe': 50.26548245743669, 'Pb': 251.32741228718345}\n",
      "Weight of disk with radius 3 are \n",
      " {'Al': 28.274333882308138, 'Fe': 113.09733552923255, 'Pb': 565.4866776461628}\n",
      "Weight of sphere with radius 1 are \n",
      " {'Al': 8.377580409572781, 'Fe': 20.94395102393195, 'Pb': 125.66370614359171}\n",
      "Weight of sphere with radius 2 are \n",
      " {'Al': 67.02064327658225, 'Fe': 167.5516081914556, 'Pb': 1005.3096491487337}\n",
      "Weight of sphere with radius 3 are \n",
      " {'Al': 226.1946710584651, 'Fe': 565.4866776461628, 'Pb': 3392.9200658769764}\n"
     ]
    }
   ],
   "source": [
    "from math import pi ##done\n",
    "densities = {\"Al\":[0.5,1,2],\"Fe\":[3,4,5],\"Pb\": [15,20,30]}\n",
    "radii = [1,2,3]\n",
    "shapes = [lambda i:2*pi*i,lambda i:pi*i**2,lambda i:4*pi*i**3/3] #make list of anonymous funcs of \"volume\"\n",
    "for a,f,p, shape, control in zip(densities['Al'],densities['Fe'], densities['Pb'], shapes, ['circle','disk','sphere']): #zipping:\n",
    "    #densities, \"volumes\", name of the shape\" \n",
    "    for r in radii: #now computing all above for every radius.\n",
    "        weight = {'Al': a*shape(r),'Fe': f*shape(r), 'Pb': p*shape(r)} #dictionary, i like dictionaries, they are dense of info\n",
    "        print(f'Weight of {control} with radius {r} are \\n', weight)# the make easy printing also.\n",
    "        "
   ]
  },
  {
   "cell_type": "code",
   "execution_count": 48,
   "metadata": {
    "tags": []
   },
   "outputs": [
    {
     "ename": "SyntaxError",
     "evalue": "incomplete input (23316721.py, line 5)",
     "output_type": "error",
     "traceback": [
      "\u001b[0;36m  Cell \u001b[0;32mIn[48], line 5\u001b[0;36m\u001b[0m\n\u001b[0;31m    def weight(density, radius):\u001b[0m\n\u001b[0m                                ^\u001b[0m\n\u001b[0;31mSyntaxError\u001b[0m\u001b[0;31m:\u001b[0m incomplete input\n"
     ]
    }
   ],
   "source": [
    "\n",
    "\n",
    "for Aldens,Fedens,Pbdens,func in zip(densities[\"Al\"],densities[\"Fe\"],densities[\"Pb\"],funclist): ##zip prende prima solo il primo elemento di ogni vettore densità (lineare) e la prima funzione (circonf), poi solo il secondo elemento di ciascuna densità (superf) e la seconda funzione (area) ecc \n",
    "    for radius in radii:\n",
    "          #print(Aldens,Fedens,Pbdens)\n",
    "          weight_func =[Aldens*func(radius), Fedens*func(radius), Pbdens*func(radius)]\n",
    "          if func == funclist[0]: \n",
    "                print(\"The weights of the circles with radius \"+ str(radius) +\" are: \")\n",
    "                print( \"Al: \"+ str(weight_func[0]) + \" Fe: \"+ str(weight_func[1]) + \" Pb: \"+ str(weight_func[2]))\n",
    "          elif func == funclist[1]: \n",
    "                print(\"The weights of the disks with radius \"+ str(radius) +\" are: \")\n",
    "                print( \"Al: \"+ str(weight_func[0]) + \" Fe: \"+ str(weight_func[1]) + \" Pb: \"+ str(weight_func[2])) \n",
    "          elif func == funclist[2]: \n",
    "                print(\"The weights of the spheres with radius \"+ str(radius) +\" are: \")\n",
    "                print( \"Al: \"+ str(weight_func[0]) + \" Fe: \"+ str(weight_func[1]) + \" Pb: \"+ str(weight_func[2]))    \n"
   ]
  },
  {
   "cell_type": "markdown",
   "metadata": {},
   "source": [
    "6\\. Edit the class defintion to add an instance attribute of is_hungry = True to the Dog class. Then add a method called eat() which changes the value of is_hungry to False when called. Figure out the best way to feed each dog and then output “My dogs are hungry.” if all are hungry or “My dogs are not hungry.” if all are not hungry. The final output should look like this:\n",
    "\n",
    "`I have 3 dogs. \n",
    "Tom is 6. \n",
    "Fletcher is 7. \n",
    "Larry is 9. \n",
    "And they're all mammals, of course. \n",
    "My dogs are not hungry.\n",
    "`\n",
    "\n",
    "```python\n",
    "# Parent class\n",
    "class Dog:\n",
    "\n",
    "    # Class attribute\n",
    "    species = 'mammal'\n",
    "\n",
    "    # Initializer / Instance attributes\n",
    "    def __init__(self, name, age):\n",
    "        self.name = name\n",
    "        self.age = age\n",
    "\n",
    "    # instance method\n",
    "    def description(self):\n",
    "        return \"{} is {} years old\".format(self.name, self.age)\n",
    "\n",
    "    # instance method\n",
    "    def speak(self, sound):\n",
    "        return \"{} says {}\".format(self.name, sound)\n",
    "\n",
    "# Child class (inherits from Dog class)\n",
    "class RussellTerrier(Dog):\n",
    "    def run(self, speed):\n",
    "        return \"{} runs {}\".format(self.name, speed)\n",
    "\n",
    "# Child class (inherits from Dog class)\n",
    "class Bulldog(Dog):\n",
    "    def run(self, speed):\n",
    "        return \"{} runs {}\".format(self.name, speed)\n",
    "```"
   ]
  },
  {
   "cell_type": "code",
   "execution_count": 78,
   "metadata": {},
   "outputs": [],
   "source": [
    "# Parent class\n",
    "class Dog:\n",
    "    object_count = 0\n",
    "    # Class attribute\n",
    "    species = 'mammal'\n",
    "    is_hungry = True\n",
    "\n",
    "    # Initializer / Instance attributes\n",
    "    def __init__(self, name, age):\n",
    "        self.name = name\n",
    "        self.age = age\n",
    "        Dog.object_count+=1\n",
    "\n",
    "    # instance method\n",
    "    def description(self):\n",
    "        return \"{} is {} years old\".format(self.name, self.age)\n",
    "\n",
    "    # instance method\n",
    "    def speak(self, sound):\n",
    "        return \"{} says {}\".format(self.name, sound)\n",
    "\n",
    "    def eat(food):\n",
    "        if food==True:\n",
    "            is_hungry= False\n",
    "            return \"My dogs are not hungry\"\n",
    "\n",
    "# Child class (inherits from Dog class)\n",
    "class RussellTerrier(Dog):\n",
    "    def run(self, speed):\n",
    "        return \"{} runs {}\".format(self.name, speed)\n",
    "\n",
    "# Child class (inherits from Dog class)\n",
    "class Bulldog(Dog):\n",
    "    def run(self, speed):\n",
    "        return \"{} runs {}\".format(self.name, speed)\n"
   ]
  },
  {
   "cell_type": "code",
   "execution_count": 79,
   "metadata": {},
   "outputs": [],
   "source": [
    "Tom=Bulldog(\"Tom\",6)\n",
    "Larry=RussellTerrier(\"Larry\", 9)\n",
    "Fletcher=Dog(\"Fletcher\", 7)"
   ]
  },
  {
   "cell_type": "code",
   "execution_count": 80,
   "metadata": {},
   "outputs": [
    {
     "name": "stdout",
     "output_type": "stream",
     "text": [
      "I have 3 dogs.  Tom is 6 years old . Fletcher is 7 years old . Larry is 9 years old . And they're all  mammal s, of course. My dogs are not hungry\n"
     ]
    }
   ],
   "source": [
    "print(\"I have\", Dog.object_count, \"dogs. \", Tom.description(), \".\", Fletcher.description(), \".\", Larry.description(), \".\", \"And they're all \", Dog.species, \"s, of course.\", Dog.eat(True) )"
   ]
  },
  {
   "cell_type": "code",
   "execution_count": null,
   "metadata": {},
   "outputs": [],
   "source": []
  }
 ],
 "metadata": {
  "kernelspec": {
   "display_name": "Python 3 (ipykernel)",
   "language": "python",
   "name": "python3"
  },
  "language_info": {
   "codemirror_mode": {
    "name": "ipython",
    "version": 3
   },
   "file_extension": ".py",
   "mimetype": "text/x-python",
   "name": "python",
   "nbconvert_exporter": "python",
   "pygments_lexer": "ipython3",
   "version": "3.12.2"
  }
 },
 "nbformat": 4,
 "nbformat_minor": 4
}
