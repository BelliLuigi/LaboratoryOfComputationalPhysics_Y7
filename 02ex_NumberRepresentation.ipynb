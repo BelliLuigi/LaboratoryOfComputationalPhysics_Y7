{
 "cells": [
  {
   "cell_type": "markdown",
   "metadata": {},
   "source": [
    "1\\. Write a function that converts number representation, bin<->dec<->hex. (Clearly using the corresponding python built-in functions is not fair..)"
   ]
  },
  {
   "cell_type": "code",
   "execution_count": 1,
   "metadata": {},
   "outputs": [],
   "source": [
    "def converter(n, base_in, base_out): ##Converter2 below is better\n",
    "    def decto(n, baseout): # da decimale a \n",
    "        out_list = []\n",
    "        if int(n) ==0: # per sicurezza\n",
    "            return 0\n",
    "        else:\n",
    "            while n >= (0.01*base_out):\n",
    "                numeri = \"0123456789ABCDEF\"\n",
    "                resto = n%base_out\n",
    "                resto = numeri[resto]\n",
    "                out_list.append(resto)\n",
    "                n //= base_out   \n",
    "            return out_list\n",
    "    def todec(n,base_in): # da base diversa a decimale\n",
    "        out_list = []\n",
    "        numeri = \"0123456789ABCDEF\"\n",
    "        a = len(str(n))-1\n",
    "        for i in str(n):\n",
    "            if a >=0:\n",
    "                i = numeri.index(i)\n",
    "                out_list.append(int(i)*base_in**a)\n",
    "                a -=1\n",
    "            else:\n",
    "                break\n",
    "        number =0\n",
    "        for i in out_list: # trasformare la list in stringa\n",
    "            number = number + i\n",
    "        return number\n",
    "    valid = {10, 2, 16} #basi valide\n",
    "    if base_in not in valid: #check basi valide\n",
    "        return \"Valid basis are 2 (binary), 10 (decimal), 16 (hexadecimal)\"\n",
    "    else:\n",
    "        if base_out == 10:\n",
    "            return todec(n,base_in)\n",
    "        else:\n",
    "            number_list = decto(n,base_out)\n",
    "            a = \"\"\n",
    "            for i in number_list:\n",
    "                a = a+ str(i)\n",
    "            a = a[::-1]\n",
    "            return a\n"
   ]
  },
  {
   "cell_type": "code",
   "execution_count": 4,
   "metadata": {
    "tags": []
   },
   "outputs": [],
   "source": [
    "def converter2(n, base_in, base_out): # 3 input, numero, la sua base, base finale\n",
    "    hexstring = '0123456789ABCDEF'#x trasformare i resti in numeri nelle basi\n",
    "    def decto(n, base_out): # da decimale a ...base_out\n",
    "        if int(n) == 0: # mi risparmio questo caso particolare\n",
    "            return 0\n",
    "        else:\n",
    "            outstring = '' #inizializzo stringa output\n",
    "            while n >= (0.01*base_out): #finchè n !=o non funziona. meglio usare questo cosino così\n",
    "                resto = hexstring[n%base_out] #trasformo direttamente il resto in cifra\n",
    "                outstring = resto + outstring #aggiungo all'inizio della stringa, così poi non devo capovolgerla\n",
    "                n //= base_out #aggiorno n\n",
    "            return outstring # output\n",
    "    def todec(n, base_in): # da ... a decimale\n",
    "        length = len(str(n))#lenght is useful to know what power of ten each chr \n",
    "        outstring = int(0)# initializing output\n",
    "        for i, length in zip(str(n),reversed(range(length))):\n",
    "            cifra = hexstring.index(i)# example: a gives 10\n",
    "            outstring = outstring + int(cifra)*pow(base_in,length) # adding each one\n",
    "        return outstring #output\n",
    "    valid = [2,10,16] # valid bases, but until 16 works every basis\n",
    "    if (base_in or base_out) not in valid:# exception\n",
    "        return print(f\"Valid basis are {valid}\")\n",
    "    elif base_in == base_out: #input = output\n",
    "        return n\n",
    "    elif base_out == 10:\n",
    "        return todec(n, base_in) #from hex/bin to dec\n",
    "    elif base_in == 10:\n",
    "        return decto(n,base_out) # from dec to bin/hex\n",
    "    else:\n",
    "        return decto(todec(n,base_in),base_out) #bin2hex or hex2bin\n",
    "\n"
   ]
  },
  {
   "cell_type": "code",
   "execution_count": 7,
   "metadata": {},
   "outputs": [
    {
     "name": "stdout",
     "output_type": "stream",
     "text": [
      "1436 to  59C proof 0x59c\n",
      "0x59c to 1436 proof 1436\n",
      "1100\n",
      "0b1100 to 12 12\n",
      "1100 to 1100 same basis\n",
      "31 to 1F proof 0x1f\n",
      "converter2\n",
      "1436 to  59C proof 0x59c\n",
      "0x59c to 1436 proof 1436\n",
      "1100\n",
      "0b1100 to 12 12\n",
      "1100 to 1100 same basis\n",
      "31 to 1F proof 0x1f\n",
      "1111 to hex F proof = F\n"
     ]
    }
   ],
   "source": [
    "print('1436 to ',converter(1436,10,16), 'proof', hex(1436))\n",
    "print('0x59c to',converter(\"59C\",16,10), 'proof', int('59c',16))\n",
    "print(converter(12,10,2))\n",
    "print('0b1100 to' ,converter(1100,2,10), int('0b1100',2))\n",
    "print('1100 to',converter(1100,10,10), 'same basis')\n",
    "print( '31 to',converter(31,10,16), 'proof', hex(31) )\n",
    "\n",
    "print('converter2')\n",
    "print('1436 to ',converter2(1436,10,16), 'proof', hex(1436))\n",
    "print('0x59c to',converter2(\"59C\",16,10), 'proof', int('59c',16))\n",
    "print(converter2(12,10,2))\n",
    "print('0b1100 to' ,converter2(1100,2,10), int('0b1100',2))\n",
    "print('1100 to',converter2(1100,10,10), 'same basis')\n",
    "\n",
    "print( '31 to',converter2(31,10,16), 'proof', hex(31) )\n",
    "print('1111 to hex', converter2(1111,2,16), 'proof = F')\n",
    "\n"
   ]
  },
  {
   "cell_type": "markdown",
   "metadata": {},
   "source": [
    "2\\. Write a function that converts a 32 bit word into a single precision floating point (i.e. interprets the various bits as sign, mantissa and exponent)"
   ]
  },
  {
   "cell_type": "code",
   "execution_count": 2,
   "metadata": {
    "tags": []
   },
   "outputs": [
    {
     "name": "stdout",
     "output_type": "stream",
     "text": [
      "11000001\n"
     ]
    }
   ],
   "source": [
    "a = \"111000001111011\" #word \n",
    "print\n",
    "def word2sfp(word):\n",
    "    word = str(word) #making it string, to be sure\n",
    "    sign = word[0] #sign is 1st\n",
    "    exp = \"0b\" + word[1:9] #exp is 2-9 \n",
    "    mantissa = word[9::] # the rest is mantissa\n",
    "    dec_mantissa= 1 # init mantissa to dec variable\n",
    "    e = -1 # exp of mantissa to dec\n",
    "    for i in mantissa:\n",
    "        if int(i) == 1: # computing just for 1s\n",
    "            cif = int(i)*2**e\n",
    "            dec_mantissa += cif\n",
    "        e -=1 #update exp\n",
    "    exp = int(exp,2) # i know i'm using python built-ins\n",
    "    sign = int(sign) # for the sake of efficiency, i swear\n",
    "    number =  (-1)**sign*dec_mantissa*2**(exp-127) # composing\n",
    "    return number"
   ]
  },
  {
   "cell_type": "code",
   "execution_count": 3,
   "metadata": {
    "tags": []
   },
   "outputs": [
    {
     "name": "stdout",
     "output_type": "stream",
     "text": [
      "-1.4180934506664218e+20\n"
     ]
    }
   ],
   "source": [
    "print(word2sfp(a))\n"
   ]
  },
  {
   "cell_type": "markdown",
   "metadata": {},
   "source": [
    "3\\. Write a program to determine the underflow and overflow limits (within a factor of 2) for python on your computer. \n",
    "\n",
    "**Tips**: define two variables inizialized to 1 and halve/double them enough time to exceed the under/over-flow limits  "
   ]
  },
  {
   "cell_type": "code",
   "execution_count": 8,
   "metadata": {},
   "outputs": [
    {
     "name": "stdout",
     "output_type": "stream",
     "text": [
      "1024 -1075 inf 0.0\n"
     ]
    }
   ],
   "source": [
    "from math import isinf\n",
    "from numba import jit\n",
    "#@jit thought it was lenghty process but it is not, jit not necessary\n",
    "def overunder(a,b):  \n",
    "    expup = 0\n",
    "    expdown = 0\n",
    "    while not isinf(a): #isinf take number and tells you if is infty\n",
    "        # not not = true\n",
    "        a*=2\n",
    "        expup+=1\n",
    "    while b != float(0.0):\n",
    "        b/=2\n",
    "        expdown-=1\n",
    "    return expup, expdown, a, b\n",
    "\n",
    "b = float(1)\n",
    "a = float(1)\n",
    "a,b, c, d = overunder(a,b)\n",
    "print(a,b, c, d)"
   ]
  },
  {
   "cell_type": "markdown",
   "metadata": {},
   "source": [
    "4\\. Write a program to determine the machine precision\n",
    "\n",
    "**Tips**: define a new variable by adding a smaller and smaller value (proceeding similarly to prob. 2) to an original variable and check the point where the two are the same "
   ]
  },
  {
   "cell_type": "code",
   "execution_count": 9,
   "metadata": {},
   "outputs": [
    {
     "name": "stdout",
     "output_type": "stream",
     "text": [
      "2.220446049250313e-16\n",
      "2.220446049250313e-16\n"
     ]
    }
   ],
   "source": [
    "##Want to compute machine epsilon for fp-arithmetic.\n",
    "#machine epsilon is the smallest positive number such that 1+ epsmach >1 \n",
    "\n",
    "epsmach = 1 #initialize variable\n",
    "while (1 + epsmach)>1: #condition true until we find epsmach\n",
    "    epsmach /= 2\n",
    "epsmach *= 2 #bc the one we found is below epsmach\n",
    "print(epsmach)\n",
    "import numpy as np\n",
    "print(np.finfo(float()).eps)"
   ]
  },
  {
   "cell_type": "markdown",
   "metadata": {},
   "source": [
    "5\\. Write a function that takes in input three parameters $a$, $b$ and $c$ and prints out the two solutions to the quadratic equation $ax^2+bx+c=0$ using the standard formula:\n",
    "$$\n",
    "x=\\frac{-b\\pm\\sqrt{b^2-4ac}}{2a}\n",
    "$$\n",
    "\n",
    "(a) use the program to compute the solution for $a=0.001$, $b=1000$ and $c=0.001$\n",
    "\n",
    "(b) re-express the standard solution formula by multiplying top and bottom by $-b\\mp\\sqrt{b^2-4ac}$ and again find the solution for $a=0.001$, $b=1000$ and $c=0.001$. How does it compare with what previously obtained? Why?\n",
    "\n",
    "(c) write a function that compute the roots of a quadratic equation accurately in all cases"
   ]
  },
  {
   "cell_type": "code",
   "execution_count": 9,
   "metadata": {},
   "outputs": [
    {
     "name": "stdout",
     "output_type": "stream",
     "text": [
      "first -9.999894245993346e-07 -999999.999999\n",
      "second -1.000000000001e-06 -1000010.5755125057\n",
      "third -999999.999999 -1.000000000001e-06\n"
     ]
    }
   ],
   "source": [
    "from numpy import sqrt\n",
    "#a)\n",
    "def quadsolver(a,b,c):\n",
    "    delta = sqrt(b**2-(4*a*c))\n",
    "    x1 = (-b +delta)/(2*a)\n",
    "    x2 = (-b -delta)/(2*a)\n",
    "    return x1,x2\n",
    "\n",
    "x11,x21 = quadsolver(0.001,1000,0.001)\n",
    "print(\"first\",x11,x21)\n",
    "\n",
    "#b)\n",
    "def quadsolverb(a,b,c):\n",
    "    delta = sqrt(b**2-(4*a*c))\n",
    "    top = 2*c\n",
    "    x1bottom = - b - delta\n",
    "    x2bottom = - b + delta\n",
    "    x1= top/ x1bottom\n",
    "    x2 = top/x2bottom\n",
    "    return x1,x2\n",
    "\n",
    "x12,x22 = quadsolverb(0.001,1000,0.001)\n",
    "print(\"second\",x12,x22)\n",
    "\n",
    "#Now how to compare the results? I can plug x1,x2 into equation and see how close are them to 0\n",
    "accs =[ (0.001*i**2 + 1000*i + 0.001) for i in [x11,x21,x12,x22] ]\n",
    "accs\n",
    "#we see that first func solves quite good both solutions\n",
    "#second solves perfectly first but explodes second solution\n",
    "# the first is better i'd say.\n",
    "\n",
    "#c)\n",
    "\n",
    "def bestqes(a,b,c):\n",
    "    delta = sqrt(b**2-(4*a*c))\n",
    "    if b >= 0: # this to sum and avoid dangerous subtraction, that could lead to zero\n",
    "        x1 = (-b - delta) / (2 * a)\n",
    "    else:\n",
    "        x1 = (-b + delta) / (2 * a)\n",
    "    x2 = c/(a*x1) # using vieta's formula x1*x2 = c/a\n",
    "    return x1,x2\n",
    "\n",
    "x13,x23 = bestqes(0.001,1000,0.001)\n",
    "print('third', x13,x23)    \n"
   ]
  },
  {
   "cell_type": "markdown",
   "metadata": {},
   "source": [
    "6\\. Write a program that implements the function $f(x)=x(x−1)$\n",
    "\n",
    "(a) Calculate the derivative of the function at the point $x = 1$ using the derivative definition:\n",
    "\n",
    "$$\n",
    "\\frac{{\\rm d}f}{{\\rm d}x} = \\lim_{\\delta\\to0} \\frac{f(x+\\delta)-f(x)}{\\delta}\n",
    "$$\n",
    "\n",
    "with $\\delta = 10^{−2}$. Calculate the true value of the same derivative analytically and compare with the answer your program gives. The two will not agree perfectly. Why not?\n",
    "\n",
    "(b) Repeat the calculation for $\\delta = 10^{−4}, 10^{−6}, 10^{−8}, 10^{−10}, 10^{−12}$ and $10^{−14}$. How does the accuracy scales with $\\delta$?"
   ]
  },
  {
   "cell_type": "code",
   "execution_count": 11,
   "metadata": {
    "tags": []
   },
   "outputs": [
    {
     "name": "stdout",
     "output_type": "stream",
     "text": [
      "Per delta =  0.01\n",
      " secondo definizione 1.010000000000001\n",
      "analitica 1\n",
      "differenza = 99.99999999999103\n",
      "Per delta =  0.0001\n",
      " secondo definizione 1.0000999999998899\n",
      "analitica 1\n",
      "differenza = 10000.000011014514\n",
      "Per delta =  1e-06\n",
      " secondo definizione 1.0000009999177333\n",
      "analitica 1\n",
      "differenza = 1000082.273488583\n",
      "Per delta =  1e-08\n",
      " secondo definizione 1.0000000039225287\n",
      "analitica 1\n",
      "differenza = 254937583.55597517\n",
      "Per delta =  1e-10\n",
      " secondo definizione 1.000000082840371\n",
      "analitica 1\n",
      "differenza = 12071408.998290231\n",
      "Per delta =  1e-12\n",
      " secondo definizione 1.0000889005833413\n",
      "analitica 1\n",
      "differenza = 11248.520115561294\n",
      "Per delta =  1e-14\n",
      " secondo definizione 0.9992007221626509\n",
      "analitica 1\n",
      "differenza = 1251.1293986539047\n"
     ]
    }
   ],
   "source": [
    "\n",
    "def f(x): return x*(x-1)\n",
    "\n",
    "def limitByDef(function, point, delta):\n",
    "    return (function(point+delta)-function(point))/delta\n",
    "\n",
    "def d_exact(x): return 2*x -1 # computed by hand\n",
    "\n",
    "\n",
    "deltas = [1e-2,1e-4,1e-6,1e-8,1e-10,1e-12,1e-14]\n",
    "for delta in deltas:\n",
    "    mia = limitByDef(f,1,delta)\n",
    "    sua = d_exact(1)\n",
    "    print(\"Per delta = \", delta)\n",
    "    print(\" secondo definizione\", mia)\n",
    "    print(\"analitica\",sua)\n",
    "    print(\"differenza =\", abs(mia-sua))\n"
   ]
  },
  {
   "cell_type": "markdown",
   "metadata": {},
   "source": [
    "7\\. Consider the integral of the semicircle of radius 1:\n",
    "$$\n",
    "I=\\int_{-1}^{1} \\sqrt(1-x^2) {\\rm d}x\n",
    "$$\n",
    "which it's known to be $I=\\frac{\\pi}{2}=1.57079632679...$.\n",
    "Alternatively we can use the Riemann definition of the integral:\n",
    "$$\n",
    "I=\\lim_{N\\to\\infty} \\sum_{k=1}^{N} h y_k \n",
    "$$\n",
    "\n",
    "with $h=2/N$ the width of each of the $N$ slices the domain is divided into and where\n",
    "$y_k$ is the value of the function at the $k-$th slice.\n",
    "\n",
    "(a) Write a programe to compute the integral with $N=100$. How does the result compares to the true value?\n",
    "\n",
    "(b) How much can $N$ be increased if the computation needs to be run in less than a second? What is the gain in running it for 1 minute? \n"
   ]
  },
  {
   "cell_type": "code",
   "execution_count": 15,
   "metadata": {},
   "outputs": [
    {
     "name": "stdout",
     "output_type": "stream",
     "text": [
      "0.017378397385104494 1.057964563369751\n"
     ]
    }
   ],
   "source": [
    "from math import pi\n",
    "from numpy import linspace, sum, sqrt\n",
    "from numba import jit\n",
    "import time\n",
    "\n",
    "starttime = time.time()\n",
    "\n",
    "@jit(nopython=False)\n",
    "def f(x): return sqrt(1-x**2)\n",
    "\n",
    "\n",
    "@jit(nopython=False)\n",
    "def rieman_sum(N,f):\n",
    "    interval = linspace(-1.,1.,N) #linear segmenting, idk if segmenting is a word\n",
    "    yksum= 0.0 # initializing sum variable\n",
    "    dx = 2/N #width of each slice\n",
    "    for i in interval:\n",
    "        yksum += dx*f(i) #area of the rectangle\n",
    "    return yksum\n",
    "    \n",
    "N = 100\n",
    "riemann = rieman_sum(N,f)\n",
    "endtime = time.time()\n",
    "elapsed = endtime - starttime\n",
    "true_value = 1.57079632679\n",
    "delta = true_value -riemann\n",
    "print(delta, elapsed)"
   ]
  },
  {
   "cell_type": "markdown",
   "metadata": {},
   "source": [
    "jit:\n",
    "n = 1000000000 1.5702339428713685e-09 63.83146667480469 \n",
    "\n",
    "n = 1000000000 1.5702339428713685e-09 65.48444247245789 \n",
    "\n",
    "n = 1000000000 1.5702339428713685e-09 77.88869619369507\n",
    "\n",
    "n = 100000000 1.5704694655838125e-08 1.2010307312011719\n",
    "\n",
    "nojit:\n",
    "\n",
    "N = 10000 0.00015874279054806095 0.018023014068603516\n",
    "N = 100000 1.5760550096111103e-05 0.1973421573638916\n",
    "N = 10000000 1.571273213762936e-07 14.858503341674805\n",
    "N = 40000000 3.927181158047688e-08 47.0781033039093\n",
    "\n",
    "jit(nopython=true)\n",
    "\n",
    "N = 40000000 3.927181158047688e-08 1.4723777770996094\n",
    "N = 100000000 1.5704694655838125e-08 1.0112295150756836\n",
    "N = 1000000000 1.5702339428713685e-09 76.07104992866516\n",
    "N = 1000000000 1.5702339428713685e-09 77.88869619369507"
   ]
  },
  {
   "cell_type": "code",
   "execution_count": null,
   "metadata": {},
   "outputs": [],
   "source": []
  }
 ],
 "metadata": {
  "kernelspec": {
   "display_name": "Python 3 (ipykernel)",
   "language": "python",
   "name": "python3"
  },
  "language_info": {
   "codemirror_mode": {
    "name": "ipython",
    "version": 3
   },
   "file_extension": ".py",
   "mimetype": "text/x-python",
   "name": "python",
   "nbconvert_exporter": "python",
   "pygments_lexer": "ipython3",
   "version": "3.12.2"
  }
 },
 "nbformat": 4,
 "nbformat_minor": 4
}
