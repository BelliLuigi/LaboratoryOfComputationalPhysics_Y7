{
 "cells": [
  {
   "cell_type": "markdown",
   "metadata": {},
   "source": [
    "1\\. Write a function that converts number representation, bin<->dec<->hex. (Clearly using the corresponding python built-in functions is not fair..)"
   ]
  },
  {
   "cell_type": "code",
   "execution_count": 5,
   "metadata": {},
   "outputs": [],
   "source": [
    "def converter(n, base_in, base_out):\n",
    "    def decto(n, baseout): # da decimale a \n",
    "        out_list = []\n",
    "        if int(n) ==0: # per sicurezza\n",
    "            return 0\n",
    "        else:\n",
    "            while n >= (0.01*base_out):\n",
    "                numeri = \"0123456789ABCDEF\"\n",
    "                resto = n%base_out\n",
    "                resto = numeri[resto]\n",
    "                out_list.append(resto)\n",
    "                n //= base_out   \n",
    "            return out_list\n",
    "    def todec(n,base_in): # da base diversa a decimale\n",
    "        out_list = []\n",
    "        numeri = \"0123456789ABCDEF\"\n",
    "        a = len(str(n))-1\n",
    "        for i in str(n):\n",
    "            if a >=0:\n",
    "                i = numeri.index(i)\n",
    "                out_list.append(int(i)*base_in**a)\n",
    "                a -=1\n",
    "            else:\n",
    "                break\n",
    "        number =0\n",
    "        for i in out_list: # trasformare la list in stringa\n",
    "            number = number + i\n",
    "        return number\n",
    "    valid = {10, 2, 16} #basi valide\n",
    "    if base_in not in valid: #check basi valide\n",
    "        return \"Valid basis are 2 (binary), 10 (decimal), 16 (hexadecimal)\"\n",
    "    else:\n",
    "        if base_out == 10:\n",
    "            return todec(n,base_in)\n",
    "        else:\n",
    "            number_list = decto(n,base_out)\n",
    "            a = \"\"\n",
    "            for i in number_list:\n",
    "                a = a+str(i)\n",
    "            a = a[::-1]\n",
    "            return a\n",
    "            "
   ]
  },
  {
   "cell_type": "code",
   "execution_count": 6,
   "metadata": {},
   "outputs": [
    {
     "name": "stdout",
     "output_type": "stream",
     "text": [
      "59C\n",
      "1436\n",
      "1100\n",
      "12\n",
      "1100\n",
      "1F\n"
     ]
    }
   ],
   "source": [
    "print(converter(1436,10,16))\n",
    "print(converter(\"59C\",16,10))\n",
    "print(converter(12,10,2))\n",
    "print(converter(1100,2,10))\n",
    "print(converter(1100,10,10))\n",
    "\n",
    "print(converter(31,10,16))"
   ]
  },
  {
   "cell_type": "markdown",
   "metadata": {},
   "source": [
    "2\\. Write a function that converts a 32 bit word into a single precision floating point (i.e. interprets the various bits as sign, mantissa and exponent)"
   ]
  },
  {
   "cell_type": "code",
   "execution_count": 169,
   "metadata": {},
   "outputs": [],
   "source": [
    "a = \"00000011111000000000000000000000\"\n",
    "def word2sfp(word):\n",
    "    word = str(word)\n",
    "    sign = word[0]\n",
    "    exp = \"0b\" + word[1:9]\n",
    "    mantissa = word[9::]\n",
    "    dec_mantissa= 1\n",
    "    e = -1\n",
    "    for i in mantissa:\n",
    "        if int(i) == 1: \n",
    "            cif = int(i)*2**e\n",
    "            dec_mantissa += cif\n",
    "        e -=1\n",
    "    exp = int(exp,2)\n",
    "    sign = int(sign)\n",
    "    number =  (-1)**sign*dec_mantissa*2**(exp-127)\n",
    "    return number"
   ]
  },
  {
   "cell_type": "markdown",
   "metadata": {},
   "source": [
    "3\\. Write a program to determine the underflow and overflow limits (within a factor of 2) for python on your computer. \n",
    "\n",
    "**Tips**: define two variables inizialized to 1 and halve/double them enough time to exceed the under/over-flow limits  "
   ]
  },
  {
   "cell_type": "code",
   "execution_count": 1,
   "metadata": {},
   "outputs": [
    {
     "name": "stdout",
     "output_type": "stream",
     "text": [
      "1024 -1075 inf 0.0\n"
     ]
    }
   ],
   "source": [
    "from math import isinf\n",
    "from numba import jit\n",
    "@jit\n",
    "def overunder(a,b):  \n",
    "    expup = 0\n",
    "    expdown = 0\n",
    "    while not isinf(a):\n",
    "        a*=2\n",
    "        expup+=1\n",
    "    while b != float(0.0):\n",
    "        b/=2\n",
    "        #print(b)\n",
    "        expdown-=1\n",
    "    return expup, expdown, a, b\n",
    "\n",
    "b = float(1)\n",
    "a = float(1)\n",
    "a,b, c, d = overunder(a,b)\n",
    "print(a,b, c, d)"
   ]
  },
  {
   "cell_type": "markdown",
   "metadata": {},
   "source": [
    "4\\. Write a program to determine the machine precision\n",
    "\n",
    "**Tips**: define a new variable by adding a smaller and smaller value (proceeding similarly to prob. 2) to an original variable and check the point where the two are the same "
   ]
  },
  {
   "cell_type": "code",
   "execution_count": 1,
   "metadata": {},
   "outputs": [
    {
     "name": "stdout",
     "output_type": "stream",
     "text": [
      "n of iterations: 54 result 3.0\n"
     ]
    }
   ],
   "source": [
    "a = 1\n",
    "i =0\n",
    "while True:\n",
    "    b = a\n",
    "    a += 2**(-i)\n",
    "    i +=1\n",
    "    if a==b:\n",
    "        print(\"n of iterations:\",i, \"result\",a)\n",
    "        break"
   ]
  },
  {
   "cell_type": "markdown",
   "metadata": {},
   "source": [
    "5\\. Write a function that takes in input three parameters $a$, $b$ and $c$ and prints out the two solutions to the quadratic equation $ax^2+bx+c=0$ using the standard formula:\n",
    "$$\n",
    "x=\\frac{-b\\pm\\sqrt{b^2-4ac}}{2a}\n",
    "$$\n",
    "\n",
    "(a) use the program to compute the solution for $a=0.001$, $b=1000$ and $c=0.001$\n",
    "\n",
    "(b) re-express the standard solution formula by multiplying top and bottom by $-b\\mp\\sqrt{b^2-4ac}$ and again find the solution for $a=0.001$, $b=1000$ and $c=0.001$. How does it compare with what previously obtained? Why?\n",
    "\n",
    "(c) write a function that compute the roots of a quadratic equation accurately in all cases"
   ]
  },
  {
   "cell_type": "code",
   "execution_count": 9,
   "metadata": {},
   "outputs": [
    {
     "name": "stdout",
     "output_type": "stream",
     "text": [
      "first (-9.999894245993346e-07, -999999.999999)\n",
      "second (-9.999894245993346e-07, -999999.9999990001)\n"
     ]
    }
   ],
   "source": [
    "from numpy import sqrt\n",
    "def quadsolver(a,b,c):\n",
    "    delta = sqrt(b**2-(4*a*c))\n",
    "    x1 = (-b +delta)/(2*a)\n",
    "    x2 = (-b -delta)/(2*a)\n",
    "    return x1,x2\n",
    "print(\"first\",quadsolver(0.001,1000,0.001))\n",
    "\n",
    "def quadsolverb(a,b,c):\n",
    "    delta = sqrt(b**2-(4*a*c))\n",
    "    x1top = (-b +delta)*(-b-delta)\n",
    "    x2top = (-b -delta)*(-b+delta)\n",
    "    x1bottom = 2*a*(-b-delta)\n",
    "    x2bottom = 2*a*(-b+delta)\n",
    "    x1 = x1top/x1bottom\n",
    "    x2 = x2top/x2bottom\n",
    "    return x1,x2\n",
    "\n",
    "print(\"second\",quadsolverb(0.001,1000,0.001))\n"
   ]
  },
  {
   "cell_type": "markdown",
   "metadata": {},
   "source": [
    "# What the fuck is this ex ^^"
   ]
  },
  {
   "cell_type": "markdown",
   "metadata": {},
   "source": [
    "6\\. Write a program that implements the function $f(x)=x(x−1)$\n",
    "\n",
    "(a) Calculate the derivative of the function at the point $x = 1$ using the derivative definition:\n",
    "\n",
    "$$\n",
    "\\frac{{\\rm d}f}{{\\rm d}x} = \\lim_{\\delta\\to0} \\frac{f(x+\\delta)-f(x)}{\\delta}\n",
    "$$\n",
    "\n",
    "with $\\delta = 10^{−2}$. Calculate the true value of the same derivative analytically and compare with the answer your program gives. The two will not agree perfectly. Why not?\n",
    "\n",
    "(b) Repeat the calculation for $\\delta = 10^{−4}, 10^{−6}, 10^{−8}, 10^{−10}, 10^{−12}$ and $10^{−14}$. How does the accuracy scales with $\\delta$?"
   ]
  },
  {
   "cell_type": "code",
   "execution_count": 18,
   "metadata": {
    "tags": []
   },
   "outputs": [
    {
     "name": "stdout",
     "output_type": "stream",
     "text": [
      "Per dx =  0.01\n",
      " mia derivata 1.010000000000001\n",
      "scipy derivata 1.0000000000000009\n",
      "differenza = 0.010000000000000009\n",
      "Per dx =  0.0001\n",
      " mia derivata 1.0000999999998899\n",
      "scipy derivata 0.9999999999998899\n",
      "differenza = 9.999999999998899e-05\n",
      "Per dx =  1e-06\n",
      " mia derivata 1.0000009999177333\n",
      "scipy derivata 0.9999999999732445\n",
      "differenza = 9.99944488766502e-07\n",
      "Per dx =  1e-08\n",
      " mia derivata 1.0000000039225287\n",
      "scipy derivata 0.9999999994736439\n",
      "differenza = 4.448884816099508e-09\n",
      "Per dx =  1e-10\n",
      " mia derivata 1.000000082840371\n",
      "scipy derivata 1.000000082740371\n",
      "differenza = 1.000000082740371e-10\n",
      "Per dx =  1e-12\n",
      " mia derivata 1.0000889005833413\n",
      "scipy derivata 1.0000333894311098\n",
      "differenza = 5.551115223156877e-05\n",
      "Per dx =  1e-14\n",
      " mia derivata 0.9992007221626509\n",
      "scipy derivata 0.9992007221626409\n",
      "differenza = 9.992007221626409e-15\n"
     ]
    },
    {
     "name": "stderr",
     "output_type": "stream",
     "text": [
      "/tmp/ipykernel_55954/2013782440.py:13: DeprecationWarning: scipy.misc.derivative is deprecated in SciPy v1.10.0; and will be completely removed in SciPy v1.12.0. You may consider using findiff: https://github.com/maroba/findiff or numdifftools: https://github.com/pbrod/numdifftools\n",
      "  sua = derivative(f,1,delta)\n"
     ]
    }
   ],
   "source": [
    "from scipy.misc import derivative\n",
    "\n",
    "def f(x): return x*(x-1)\n",
    "\n",
    "def limitByDef(function, point, delta):\n",
    "    return (function(point+delta)-function(point))/delta\n",
    "\n",
    "\n",
    "\n",
    "deltas = [1e-2,1e-4,1e-6,1e-8,1e-10,1e-12,1e-14]\n",
    "for delta in deltas:\n",
    "    mia = limitByDef(f,1,delta)\n",
    "    sua = derivative(f,1,delta)\n",
    "    print(\"Per dx = \", delta)\n",
    "    print(\" mia derivata\", mia)\n",
    "    print(\"scipy derivata\",sua)\n",
    "    print(\"differenza =\", abs(mia-sua))\n"
   ]
  },
  {
   "cell_type": "markdown",
   "metadata": {},
   "source": [
    "7\\. Consider the integral of the semicircle of radius 1:\n",
    "$$\n",
    "I=\\int_{-1}^{1} \\sqrt(1-x^2) {\\rm d}x\n",
    "$$\n",
    "which it's known to be $I=\\frac{\\pi}{2}=1.57079632679...$.\n",
    "Alternatively we can use the Riemann definition of the integral:\n",
    "$$\n",
    "I=\\lim_{N\\to\\infty} \\sum_{k=1}^{N} h y_k \n",
    "$$\n",
    "\n",
    "with $h=2/N$ the width of each of the $N$ slices the domain is divided into and where\n",
    "$y_k$ is the value of the function at the $k-$th slice.\n",
    "\n",
    "(a) Write a programe to compute the integral with $N=100$. How does the result compares to the true value?\n",
    "\n",
    "(b) How much can $N$ be increased if the computation needs to be run in less than a second? What is the gain in running it for 1 minute? \n"
   ]
  },
  {
   "cell_type": "code",
   "execution_count": 9,
   "metadata": {},
   "outputs": [
    {
     "name": "stdout",
     "output_type": "stream",
     "text": [
      "1.5702339428713685e-09 73.97893404960632\n"
     ]
    }
   ],
   "source": [
    "from math import pi\n",
    "from numpy import linspace, sum, sqrt\n",
    "from numba import jit\n",
    "import time\n",
    "\n",
    "starttime = time.time()\n",
    "\n",
    "@jit(nopython=False)\n",
    "def f(x): return sqrt(1-x**2)\n",
    "\n",
    "\n",
    "@jit(nopython=False)\n",
    "def rieman_sum(N,f):\n",
    "    interval = linspace(-1.,1.,N)\n",
    "    yksum= 0.0\n",
    "    dx = 2/N\n",
    "    for i in interval:\n",
    "        yksum += dx*f(i)\n",
    "    return yksum\n",
    "    \n",
    "N = 1000000000\n",
    "riemann = rieman_sum(N,f)\n",
    "endtime = time.time()\n",
    "elapsed = endtime - starttime\n",
    "true_value = 1.57079632679\n",
    "delta = true_value -riemann\n",
    "print(delta, elapsed)"
   ]
  },
  {
   "cell_type": "markdown",
   "metadata": {},
   "source": [
    "jit:\n",
    "n = 1000000000 1.5702339428713685e-09 63.83146667480469\n",
    "n = 1000000000 1.5702339428713685e-09 65.48444247245789\n",
    "n = 1000000000 1.5702339428713685e-09 77.88869619369507\n",
    "\n",
    "n = 100000000 1.5704694655838125e-08 1.2010307312011719\n",
    "\n",
    "nojit:\n",
    "N = 10000 0.00015874279054806095 0.018023014068603516\n",
    "N = 100000 1.5760550096111103e-05 0.1973421573638916\n",
    "N = 10000000 1.571273213762936e-07 14.858503341674805\n",
    "N = 40000000 3.927181158047688e-08 47.0781033039093\n",
    "\n",
    "jit(nopython=true)\n",
    "N = 40000000 3.927181158047688e-08 1.4723777770996094\n",
    "N = 100000000 1.5704694655838125e-08 1.0112295150756836\n",
    "N = 1000000000 1.5702339428713685e-09 76.07104992866516\n",
    "N = 1000000000 1.5702339428713685e-09 77.88869619369507"
   ]
  },
  {
   "cell_type": "code",
   "execution_count": null,
   "metadata": {},
   "outputs": [],
   "source": []
  }
 ],
 "metadata": {
  "kernelspec": {
   "display_name": "Python 3 (ipykernel)",
   "language": "python",
   "name": "python3"
  },
  "language_info": {
   "codemirror_mode": {
    "name": "ipython",
    "version": 3
   },
   "file_extension": ".py",
   "mimetype": "text/x-python",
   "name": "python",
   "nbconvert_exporter": "python",
   "pygments_lexer": "ipython3",
   "version": "3.12.4"
  }
 },
 "nbformat": 4,
 "nbformat_minor": 4
}
