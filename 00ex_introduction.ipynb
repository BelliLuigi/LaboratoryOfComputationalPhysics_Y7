{
 "cells": [
  {
   "cell_type": "markdown",
   "metadata": {},
   "source": [
    "1. The MickeyMouse problem\n",
    "\n",
    "a) Write a program that prints the numbers from 1 to 100. But for multiples of 3 print `Mickey` instead of the corresponding number and for the multiples of 5 print `Mouse`. For numbers which are multiples of both three and five print `MickeyMouse`\n",
    "\n",
    "b) Put the result in a tuple and substitute `Mickey` with `Donald` and `Mouse` with `Duck`"
   ]
  },
  {
   "cell_type": "code",
   "execution_count": 8,
   "metadata": {},
   "outputs": [
    {
     "name": "stdout",
     "output_type": "stream",
     "text": [
      "1\n",
      "2\n",
      "Mickey\n",
      "3\n",
      "4\n",
      "Mouse\n",
      "Mickey\n",
      "6\n",
      "7\n",
      "8\n",
      "Mickey\n",
      "9\n",
      "Mouse\n",
      "11\n",
      "Mickey\n",
      "12\n",
      "13\n",
      "14\n",
      "MickeyMouse\n",
      "15\n",
      "16\n",
      "17\n",
      "Mickey\n",
      "18\n",
      "19\n",
      "Mouse\n",
      "Mickey\n",
      "21\n",
      "22\n",
      "23\n",
      "Mickey\n",
      "24\n",
      "Mouse\n",
      "26\n",
      "Mickey\n",
      "27\n",
      "28\n",
      "29\n",
      "MickeyMouse\n",
      "30\n",
      "31\n",
      "32\n",
      "Mickey\n",
      "33\n",
      "34\n",
      "Mouse\n",
      "Mickey\n",
      "36\n",
      "37\n",
      "38\n",
      "Mickey\n",
      "39\n",
      "Mouse\n",
      "41\n",
      "Mickey\n",
      "42\n",
      "43\n",
      "44\n",
      "MickeyMouse\n",
      "45\n",
      "46\n",
      "47\n",
      "Mickey\n",
      "48\n",
      "49\n",
      "Mouse\n",
      "Mickey\n",
      "51\n",
      "52\n",
      "53\n",
      "Mickey\n",
      "54\n",
      "Mouse\n",
      "56\n",
      "Mickey\n",
      "57\n",
      "58\n",
      "59\n",
      "MickeyMouse\n",
      "60\n",
      "61\n",
      "62\n",
      "Mickey\n",
      "63\n",
      "64\n",
      "Mouse\n",
      "Mickey\n",
      "66\n",
      "67\n",
      "68\n",
      "Mickey\n",
      "69\n",
      "Mouse\n",
      "71\n",
      "Mickey\n",
      "72\n",
      "73\n",
      "74\n",
      "MickeyMouse\n",
      "75\n",
      "76\n",
      "77\n",
      "Mickey\n",
      "78\n",
      "79\n",
      "Mouse\n",
      "Mickey\n",
      "81\n",
      "82\n",
      "83\n",
      "Mickey\n",
      "84\n",
      "Mouse\n",
      "86\n",
      "Mickey\n",
      "87\n",
      "88\n",
      "89\n",
      "MickeyMouse\n",
      "90\n",
      "91\n",
      "92\n",
      "Mickey\n",
      "93\n",
      "94\n",
      "Mouse\n",
      "Mickey\n",
      "96\n",
      "97\n",
      "98\n",
      "Mickey\n",
      "99\n",
      "Mouse\n"
     ]
    }
   ],
   "source": [
    "i = 1\n",
    "while i < 101:\n",
    "    if (i%3) ==0 and (i%5) == 0:\n",
    "        print('MickeyMouse')\n",
    "    if (i%3) == 0 and (i%5)!= 0:\n",
    "        print('Mickey')\n",
    "    if (i%3) != 0 and (i%5) == 0:\n",
    "        print('Mouse')\n",
    "    else: print(i)\n",
    "    i += 1"
   ]
  },
  {
   "cell_type": "code",
   "execution_count": 3,
   "metadata": {},
   "outputs": [
    {
     "name": "stdout",
     "output_type": "stream",
     "text": [
      "(1, 2, 'Donald', 3, 4, 'Duck', 'Donald', 6, 7, 8, 'Donald', 9, 'Duck', 11, 'Donald', 12, 13, 14, 'DonaldDuck', 15, 16, 17, 'Donald', 18, 19, 'Duck', 'Donald', 21, 22, 23, 'Donald', 24, 'Duck', 26, 'Donald', 27, 28, 29, 'DonaldDuck', 30, 31, 32, 'Donald', 33, 34, 'Duck', 'Donald', 36, 37, 38, 'Donald', 39, 'Duck', 41, 'Donald', 42, 43, 44, 'DonaldDuck', 45, 46, 47, 'Donald', 48, 49, 'Duck', 'Donald', 51, 52, 53, 'Donald', 54, 'Duck', 56, 'Donald', 57, 58, 59, 'DonaldDuck', 60, 61, 62, 'Donald', 63, 64, 'Duck', 'Donald', 66, 67, 68, 'Donald', 69, 'Duck', 71, 'Donald', 72, 73, 74, 'DonaldDuck', 75, 76, 77, 'Donald', 78, 79, 'Duck', 'Donald', 81, 82, 83, 'Donald', 84, 'Duck', 86, 'Donald', 87, 88, 89, 'DonaldDuck', 90, 91, 92, 'Donald', 93, 94, 'Duck', 'Donald', 96, 97, 98, 'Donald', 99, 'Duck')\n"
     ]
    }
   ],
   "source": [
    "i = 1\n",
    "a = ()\n",
    "\n",
    "while i < 101:\n",
    "    if (i%3) ==0 and (i%5) == 0:\n",
    "         a = a+ (\"DonaldDuck\",)\n",
    "    if (i%3) == 0 and (i%5)!= 0:\n",
    "         a = a+ (\"Donald\",)\n",
    "    if (i%3) != 0 and (i%5) == 0:\n",
    "        a = a + (\"Duck\",)\n",
    "    else: \n",
    "        a = a + (i,)\n",
    "    i += 1\n",
    "print(a)"
   ]
  },
  {
   "cell_type": "markdown",
   "metadata": {},
   "source": [
    "2\\. The swap function\n",
    "\n",
    "Write a function that swap the values of two input variables x and y (whatever the type). Try to do that also without a temporary variable"
   ]
  },
  {
   "cell_type": "code",
   "execution_count": 4,
   "metadata": {},
   "outputs": [
    {
     "data": {
      "text/plain": [
       "(2, 10)"
      ]
     },
     "execution_count": 4,
     "metadata": {},
     "output_type": "execute_result"
    }
   ],
   "source": [
    "def swap(x,y):\n",
    "    x, y = y, x\n",
    "    return x,y\n",
    "\n",
    "swap(10,2)"
   ]
  },
  {
   "cell_type": "markdown",
   "metadata": {},
   "source": [
    "3\\. Computing the distance\n",
    "\n",
    "Write a function that calculates and returns the euclidean distance between two points *u* and *v*, where *u* and *v* are both 2-tuples *(x,y)*. For example, if *u=(3,0)* and *v=(0,4)*, the function should return 5"
   ]
  },
  {
   "cell_type": "code",
   "execution_count": 6,
   "metadata": {},
   "outputs": [
    {
     "data": {
      "text/plain": [
       "5.0"
      ]
     },
     "execution_count": 6,
     "metadata": {},
     "output_type": "execute_result"
    }
   ],
   "source": [
    "from numpy import sqrt\n",
    "def distance(a,b):\n",
    "    distance = sqrt((a[0]+b[0])**2+(a[1]+b[1])**2)\n",
    "    return distance\n",
    "\n",
    "u = (3,0)\n",
    "v = (0,4)\n",
    "distance(u,v)"
   ]
  },
  {
   "cell_type": "markdown",
   "metadata": {},
   "source": [
    "4\\. Counting letters\n",
    "\n",
    "Write a program to calculate the number of times each character occurs in a given string *s*. Ignore differneces in capitalization"
   ]
  },
  {
   "cell_type": "code",
   "execution_count": 8,
   "metadata": {},
   "outputs": [],
   "source": [
    "s=\"Write a program that prints the numbers from 1 to 100. \\\n",
    "But for multiples of three print Mickey instead of the number and for the multiples of five print Mouse. \\\n",
    "For numbers which are multiples of both three and five print MickeyMouse\""
   ]
  },
  {
   "cell_type": "code",
   "execution_count": 14,
   "metadata": {},
   "outputs": [
    {
     "ename": "SyntaxError",
     "evalue": "name 's' is used prior to global declaration (730998481.py, line 5)",
     "output_type": "error",
     "traceback": [
      "\u001b[0;36m  Cell \u001b[0;32mIn[14], line 5\u001b[0;36m\u001b[0m\n\u001b[0;31m    global s\u001b[0m\n\u001b[0m    ^\u001b[0m\n\u001b[0;31mSyntaxError\u001b[0m\u001b[0;31m:\u001b[0m name 's' is used prior to global declaration\n"
     ]
    }
   ],
   "source": [
    "s = s.lower()\n",
    "for i in s:\n",
    "    a = s.count(i)\n",
    "    s = s.replace(i, \"\")\n",
    "    print(i, a)"
   ]
  },
  {
   "cell_type": "code",
   "execution_count": 13,
   "metadata": {},
   "outputs": [
    {
     "data": {
      "text/plain": [
       "''"
      ]
     },
     "execution_count": 13,
     "metadata": {},
     "output_type": "execute_result"
    }
   ],
   "source": []
  },
  {
   "cell_type": "markdown",
   "metadata": {},
   "source": [
    "5\\. Isolating the unique\n",
    "\n",
    "Write a function that determines and count the unique numbers in the list *l*"
   ]
  },
  {
   "cell_type": "code",
   "execution_count": 27,
   "metadata": {},
   "outputs": [
    {
     "name": "stdout",
     "output_type": "stream",
     "text": [
      "80\n",
      "37\n"
     ]
    }
   ],
   "source": [
    "l = [36, 45, 58, 3, 74, 96, 64, 45, 31, 10, 24, 19, 33, 86, 99, 18, 63, 70, 85,\n",
    " 85, 63, 47, 56, 42, 70, 84, 88, 55, 20, 54, 8, 56, 51, 79, 81, 57, 37, 91,\n",
    " 1, 84, 84, 36, 66, 9, 89, 50, 42, 91, 50, 95, 90, 98, 39, 16, 82, 31, 92, 41,\n",
    " 45, 30, 66, 70, 34, 85, 94, 5, 3, 36, 72, 91, 84, 34, 87, 75, 53, 51, 20, 89, 51, 20]\n",
    "lcount = []\n",
    "for i in l:\n",
    "    a = l.count(i)\n",
    "    if a == 1:\n",
    "        lcount.append(i)\n",
    "print(len(l))\n",
    "print(len(lcount))"
   ]
  },
  {
   "cell_type": "markdown",
   "metadata": {},
   "source": [
    "6\\. Combination of functions\n",
    "\n",
    "Write two functions - one that returns the square of a number, and one that returns the cube. Now write a third function that returns the number raised to the 6th power using the two previous functions."
   ]
  },
  {
   "cell_type": "code",
   "execution_count": 29,
   "metadata": {},
   "outputs": [
    {
     "data": {
      "text/plain": [
       "64"
      ]
     },
     "execution_count": 29,
     "metadata": {},
     "output_type": "execute_result"
    }
   ],
   "source": [
    "def square(a):\n",
    "    return a*a\n",
    "def cube(a):\n",
    "    return a*a*a\n",
    "\n",
    "def sixth(a):\n",
    "    return square(cube(a))\n",
    "\n",
    "square(2)\n",
    "cube(2)\n",
    "sixth(2)"
   ]
  },
  {
   "cell_type": "markdown",
   "metadata": {},
   "source": [
    "7\\. Cubes\n",
    "\n",
    "Create a list of the cubes of x for x in *[0, 10]* using:\n",
    "\n",
    "a) a for loop\n",
    "\n",
    "b) a list comprehension"
   ]
  },
  {
   "cell_type": "code",
   "execution_count": 33,
   "metadata": {},
   "outputs": [
    {
     "name": "stdout",
     "output_type": "stream",
     "text": [
      "[0, 1, 8, 27, 64, 125, 216, 343, 512, 729, 1000]\n",
      "[0, 1, 8, 27, 64, 125, 216, 343, 512, 729, 1000]\n"
     ]
    }
   ],
   "source": [
    "list_a = []\n",
    "list_b = []\n",
    "for i in range(11):\n",
    "    list_a.append(cube(i))\n",
    "print(list_a)\n",
    "\n",
    "list_b = [cube(i) for i in range(11)]\n",
    "print(list_b)"
   ]
  },
  {
   "cell_type": "markdown",
   "metadata": {},
   "source": [
    "8\\. Nested list comprehension\n",
    "\n",
    "A Pythagorean triple is an integer solution to the Pythagorean theorem $a^2+b^2=c^2$. The first Pythagorean triple is (3,4,5). Find and put in a tuple all unique Pythagorean triples for the positive integers a, b and c less than 100."
   ]
  },
  {
   "cell_type": "code",
   "execution_count": 46,
   "metadata": {},
   "outputs": [
    {
     "name": "stdout",
     "output_type": "stream",
     "text": [
      "3 4 5.0\n",
      "5 12 13.0\n",
      "6 8 10.0\n",
      "7 24 25.0\n",
      "8 15 17.0\n",
      "9 12 15.0\n",
      "9 40 41.0\n",
      "10 24 26.0\n",
      "11 60 61.0\n",
      "12 16 20.0\n",
      "12 35 37.0\n",
      "13 84 85.0\n",
      "14 48 50.0\n",
      "15 20 25.0\n",
      "15 36 39.0\n",
      "16 30 34.0\n",
      "16 63 65.0\n",
      "18 24 30.0\n",
      "18 80 82.0\n",
      "20 21 29.0\n",
      "20 48 52.0\n",
      "21 28 35.0\n",
      "21 72 75.0\n",
      "24 32 40.0\n",
      "24 45 51.0\n",
      "24 70 74.0\n",
      "25 60 65.0\n",
      "27 36 45.0\n",
      "28 45 53.0\n",
      "28 96 100.0\n",
      "30 40 50.0\n",
      "30 72 78.0\n",
      "32 60 68.0\n",
      "33 44 55.0\n",
      "33 56 65.0\n",
      "35 84 91.0\n",
      "36 48 60.0\n",
      "36 77 85.0\n",
      "39 52 65.0\n",
      "39 80 89.0\n",
      "40 42 58.0\n",
      "40 75 85.0\n",
      "42 56 70.0\n",
      "45 60 75.0\n",
      "48 55 73.0\n",
      "48 64 80.0\n",
      "51 68 85.0\n",
      "54 72 90.0\n",
      "57 76 95.0\n",
      "60 63 87.0\n",
      "60 80 100.0\n",
      "65 72 97.0\n",
      "(3, 4, 5.0, 5, 12, 13.0, 6, 8, 10.0, 7, 24, 25.0, 8, 15, 17.0, 9, 12, 15.0, 9, 40, 41.0, 10, 24, 26.0, 11, 60, 61.0, 12, 16, 20.0, 12, 35, 37.0, 13, 84, 85.0, 14, 48, 50.0, 15, 20, 25.0, 15, 36, 39.0, 16, 30, 34.0, 16, 63, 65.0, 18, 24, 30.0, 18, 80, 82.0, 20, 21, 29.0, 20, 48, 52.0, 21, 28, 35.0, 21, 72, 75.0, 24, 32, 40.0, 24, 45, 51.0, 24, 70, 74.0, 25, 60, 65.0, 27, 36, 45.0, 28, 45, 53.0, 28, 96, 100.0, 30, 40, 50.0, 30, 72, 78.0, 32, 60, 68.0, 33, 44, 55.0, 33, 56, 65.0, 35, 84, 91.0, 36, 48, 60.0, 36, 77, 85.0, 39, 52, 65.0, 39, 80, 89.0, 40, 42, 58.0, 40, 75, 85.0, 42, 56, 70.0, 45, 60, 75.0, 48, 55, 73.0, 48, 64, 80.0, 51, 68, 85.0, 54, 72, 90.0, 57, 76, 95.0, 60, 63, 87.0, 60, 80, 100.0, 65, 72, 97.0)\n"
     ]
    }
   ],
   "source": [
    "tuple4 = ()\n",
    "for i in range(101):\n",
    "    for j in range(i,101):\n",
    "        a = sqrt(i**2 + j**2)\n",
    "        if a - int(a) == 0:\n",
    "            if i!=0 and j!=0 and a<101:\n",
    "                print(i,j, a)\n",
    "                tuple4 = tuple4 + (i,j,a)\n",
    "print(tuple4)"
   ]
  },
  {
   "cell_type": "markdown",
   "metadata": {},
   "source": [
    "9\\. Normalization\n",
    "\n",
    "Write a function that takes a tuple of numbers and returns it with the entries normalized to one"
   ]
  },
  {
   "cell_type": "code",
   "execution_count": 12,
   "metadata": {},
   "outputs": [
    {
     "data": {
      "text/plain": [
       "('0.6', '0.8')"
      ]
     },
     "execution_count": 12,
     "metadata": {},
     "output_type": "execute_result"
    }
   ],
   "source": [
    "from numpy import sqrt\n",
    "def normalization(a):\n",
    "    ran = len(a) \n",
    "    buffer = 0\n",
    "    list_out = []\n",
    "    for i in range(0,ran):\n",
    "        f = a[i]**2\n",
    "        buffer = buffer + int(f)\n",
    "    norma = sqrt(buffer)\n",
    "    vec_out = ()\n",
    "    for i in range(ran):\n",
    "        item = a[i]/norma\n",
    "        vec_out = vec_out + (str(item),)\n",
    "    return vec_out\n",
    "\n",
    "\n",
    "vettore = (0,0,0,1)\n",
    "vettore2 = (2,3,4,5)\n",
    "vettore3 = (3,4)\n",
    "normalization(vettore)\n",
    "normalization(vettore3)"
   ]
  },
  {
   "cell_type": "code",
   "execution_count": null,
   "metadata": {},
   "outputs": [],
   "source": []
  },
  {
   "cell_type": "code",
   "execution_count": null,
   "metadata": {},
   "outputs": [],
   "source": []
  }
 ],
 "metadata": {
  "kernelspec": {
   "display_name": "Python 3 (ipykernel)",
   "language": "python",
   "name": "python3"
  },
  "language_info": {
   "codemirror_mode": {
    "name": "ipython",
    "version": 3
   },
   "file_extension": ".py",
   "mimetype": "text/x-python",
   "name": "python",
   "nbconvert_exporter": "python",
   "pygments_lexer": "ipython3",
   "version": "3.12.3"
  }
 },
 "nbformat": 4,
 "nbformat_minor": 2
}
