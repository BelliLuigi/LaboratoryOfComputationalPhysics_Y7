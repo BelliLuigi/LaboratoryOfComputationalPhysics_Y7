{
 "cells": [
  {
   "cell_type": "markdown",
   "metadata": {},
   "source": [
    "1. The MickeyMouse problem\n",
    "\n",
    "a) Write a program that prints the numbers from 1 to 100. But for multiples of 3 print `Mickey` instead of the corresponding number and for the multiples of 5 print `Mouse`. For numbers which are multiples of both three and five print `MickeyMouse`\n",
    "\n",
    "b) Put the result in a tuple and substitute `Mickey` with `Donald` and `Mouse` with `Duck`"
   ]
  },
  {
   "cell_type": "code",
   "execution_count": 3,
   "metadata": {},
   "outputs": [
    {
     "name": "stdout",
     "output_type": "stream",
     "text": [
      "1\n",
      "2\n",
      "Mickey\n",
      "4\n",
      "Mouse\n",
      "Mickey\n",
      "7\n",
      "8\n",
      "Mickey\n",
      "Mouse\n",
      "11\n",
      "Mickey\n",
      "13\n",
      "14\n",
      "MickeyMouse\n",
      "16\n",
      "17\n",
      "Mickey\n",
      "19\n",
      "Mouse\n",
      "Mickey\n",
      "22\n",
      "23\n",
      "Mickey\n",
      "Mouse\n",
      "26\n",
      "Mickey\n",
      "28\n",
      "29\n",
      "MickeyMouse\n",
      "31\n",
      "32\n",
      "Mickey\n",
      "34\n",
      "Mouse\n",
      "Mickey\n",
      "37\n",
      "38\n",
      "Mickey\n",
      "Mouse\n",
      "41\n",
      "Mickey\n",
      "43\n",
      "44\n",
      "MickeyMouse\n",
      "46\n",
      "47\n",
      "Mickey\n",
      "49\n",
      "Mouse\n",
      "Mickey\n",
      "52\n",
      "53\n",
      "Mickey\n",
      "Mouse\n",
      "56\n",
      "Mickey\n",
      "58\n",
      "59\n",
      "MickeyMouse\n",
      "61\n",
      "62\n",
      "Mickey\n",
      "64\n",
      "Mouse\n",
      "Mickey\n",
      "67\n",
      "68\n",
      "Mickey\n",
      "Mouse\n",
      "71\n",
      "Mickey\n",
      "73\n",
      "74\n",
      "MickeyMouse\n",
      "76\n",
      "77\n",
      "Mickey\n",
      "79\n",
      "Mouse\n",
      "Mickey\n",
      "82\n",
      "83\n",
      "Mickey\n",
      "Mouse\n",
      "86\n",
      "Mickey\n",
      "88\n",
      "89\n",
      "MickeyMouse\n",
      "91\n",
      "92\n",
      "Mickey\n",
      "94\n",
      "Mouse\n",
      "Mickey\n",
      "97\n",
      "98\n",
      "Mickey\n",
      "Mouse\n"
     ]
    }
   ],
   "source": [
    "i = 1 #initialize variable\n",
    "while i < 101: #set condition to get numbers until 100\n",
    "    if (i%3) ==0 and (i%5) == 0: # first most severe condition\n",
    "        print('MickeyMouse')\n",
    "    elif (i%3) == 0:# and (i%5)!= 0: then less stringent ones\n",
    "        print('Mickey')\n",
    "    elif (i%5) == 0: #multiples of 5 (3 above)\n",
    "        print('Mouse')\n",
    "    else: print(i) # all the rest\n",
    "    i += 1"
   ]
  },
  {
   "cell_type": "code",
   "execution_count": 7,
   "metadata": {},
   "outputs": [
    {
     "name": "stdout",
     "output_type": "stream",
     "text": [
      "(1, 2, 'Donald', 4, 'Duck', 'Donald', 7, 8, 'Donald', 'Duck', 11, 'Donald', 13, 14, 'DonaldDuck', 16, 17, 'Donald', 19, 'Duck', 'Donald', 22, 23, 'Donald', 'Duck', 26, 'Donald', 28, 29, 'DonaldDuck', 31, 32, 'Donald', 34, 'Duck', 'Donald', 37, 38, 'Donald', 'Duck', 41, 'Donald', 43, 44, 'DonaldDuck', 46, 47, 'Donald', 49, 'Duck', 'Donald', 52, 53, 'Donald', 'Duck', 56, 'Donald', 58, 59, 'DonaldDuck', 61, 62, 'Donald', 64, 'Duck', 'Donald', 67, 68, 'Donald', 'Duck', 71, 'Donald', 73, 74, 'DonaldDuck', 76, 77, 'Donald', 79, 'Duck', 'Donald', 82, 83, 'Donald', 'Duck', 86, 'Donald', 88, 89, 'DonaldDuck', 91, 92, 'Donald', 94, 'Duck', 'Donald', 97, 98, 'Donald', 'Duck')\n"
     ]
    }
   ],
   "source": [
    "i = 1 # initialize iterator variable\n",
    "a = () #initialize tuple\n",
    "\n",
    "while i < 101: #start cycle, 101 bc it stops 1 iteration before\n",
    "    if (i%3) ==0 and (i%5) == 0: # first the tighter condition\n",
    "         a = a+ (\"DonaldDuck\",) #adding a piece of tuple to a tuple\n",
    "    elif (i%3) == 0:\n",
    "         a = a+ (\"Donald\",) \n",
    "    elif (i%5) == 0:\n",
    "        a = a + (\"Duck\",)\n",
    "    else: \n",
    "        a = a + (i,)\n",
    "    i += 1 #updating iterator\n",
    "print(a) # let's see how it is"
   ]
  },
  {
   "cell_type": "markdown",
   "metadata": {},
   "source": [
    "2\\. The swap function\n",
    "\n",
    "Write a function that swap the values of two input variables x and y (whatever the type). Try to do that also without a temporary variable"
   ]
  },
  {
   "cell_type": "code",
   "execution_count": 5,
   "metadata": {},
   "outputs": [
    {
     "name": "stdout",
     "output_type": "stream",
     "text": [
      "swaps work\n"
     ]
    }
   ],
   "source": [
    "a = 10 \n",
    "b = 5 #initializing two variables to perform tests\n",
    "def swaptemp(x,y): # SWAP with TEMP\n",
    "    z = x #z is the temporary variable\n",
    "    x = y\n",
    "    y = z\n",
    "    return x,y\n",
    "\n",
    "def swapwotemp(x,y): #SWAP WithOut TEMPorary variable\n",
    "    x, y = y, x\n",
    "    return x,y\n",
    "\n",
    "a_newtemp, b_newtemp = swaptemp(a,b) #testing f w/ temp\n",
    "a_new, b_new = swapwotemp(a,b) #testing f w/o temp\n",
    "\n",
    "if (a_newtemp,b_newtemp)==(a,b) or (a_new,b_new)==(a,b): \n",
    "    print('swaps do not work') # if any of these does not work, i should get this\n",
    "else:\n",
    "    print('swaps work') # this if both swaps\n",
    "\n",
    "#it works for both"
   ]
  },
  {
   "cell_type": "markdown",
   "metadata": {},
   "source": [
    "3\\. Computing the distance\n",
    "\n",
    "Write a function that calculates and returns the euclidean distance between two points *u* and *v*, where *u* and *v* are both 2-tuples *(x,y)*. For example, if *u=(3,0)* and *v=(0,4)*, the function should return 5"
   ]
  },
  {
   "cell_type": "code",
   "execution_count": 17,
   "metadata": {},
   "outputs": [
    {
     "data": {
      "text/plain": [
       "5.0"
      ]
     },
     "execution_count": 17,
     "metadata": {},
     "output_type": "execute_result"
    }
   ],
   "source": [
    "from numpy import sqrt #nothing to see here. very straight-forward\n",
    "\n",
    "\n",
    "def distance(a,b):\n",
    "    distance = sqrt((a[0]+b[0])**2+(a[1]+b[1])**2)\n",
    "    return distance\n",
    "\n",
    "u = (3,0)\n",
    "v = (0,4)\n",
    "distance(u,v)"
   ]
  },
  {
   "cell_type": "markdown",
   "metadata": {},
   "source": [
    "4\\. Counting letters\n",
    "\n",
    "Write a program to calculate the number of times each character occurs in a given string *s*. Ignore differneces in capitalization"
   ]
  },
  {
   "cell_type": "code",
   "execution_count": 22,
   "metadata": {},
   "outputs": [],
   "source": [
    "s=\"Write a program that prints the numbers from 1 to 100. \\\n",
    "But for multiples of three print Mickey instead of the number and for the multiples of five print Mouse. \\\n",
    "For numbers which are multiples of both three and five print MickeyMouse\""
   ]
  },
  {
   "cell_type": "code",
   "execution_count": 23,
   "metadata": {},
   "outputs": [
    {
     "name": "stdout",
     "output_type": "stream",
     "text": [
      "{' ': 41, '.': 2, '0': 2, '1': 2, 'a': 7, 'b': 5, 'c': 3, 'd': 3, 'e': 22, 'f': 10, 'g': 1, 'h': 9, 'i': 14, 'k': 2, 'l': 6, 'm': 12, 'n': 10, 'o': 13, 'p': 8, 'r': 17, 's': 9, 't': 19, 'u': 9, 'v': 2, 'w': 2, 'y': 2}\n"
     ]
    }
   ],
   "source": [
    "s = s.lower() # ignoring differences in capitalization\n",
    "chr_freq = {} # initialize frequency list\n",
    "for i in s: \n",
    "    a = s.count(i) # count each chr from the first in s\n",
    "    s = s.replace(i, \"\") # after count replacing it w/ nothing, to not count it again\n",
    "    if a!=0: # this is needed bc cycle has in memory the full s but the rest uses modified one\n",
    "        chr_freq[i] = a # adding new item to dictionary {chr : freq}\n",
    "print(dict(sorted(chr_freq.items())))\n",
    "\n",
    "#sorted turns into list of tuples, (chr, freq), sorted \n",
    "#sorts by the first item of each tuple, makes a list\n",
    "#dict makes a dictionary again\n",
    "\n",
    "#not using alphabeth bc otherwise i would lose 1, 0 and space chr. So \n",
    "#i use directly the originial string. Non alphabetically sorted but fuck it."
   ]
  },
  {
   "cell_type": "markdown",
   "metadata": {},
   "source": [
    "5\\. Isolating the unique\n",
    "\n",
    "Write a function that determines and count the unique numbers in the list *l*"
   ]
  },
  {
   "cell_type": "code",
   "execution_count": 24,
   "metadata": {},
   "outputs": [
    {
     "name": "stdout",
     "output_type": "stream",
     "text": [
      "80\n",
      "37\n",
      "([58, 74, 96, 64, 10, 24, 19, 33, 86, 99, 18, 47, 88, 55, 54, 8, 79, 81, 57, 37, 1, 9, 95, 90, 98, 39, 16, 82, 92, 41, 30, 94, 5, 72, 87, 75, 53], 37)\n"
     ]
    }
   ],
   "source": [
    "l = [36, 45, 58, 3, 74, 96, 64, 45, 31, 10, 24, 19, 33, 86, 99, 18, 63, 70, 85,\n",
    " 85, 63, 47, 56, 42, 70, 84, 88, 55, 20, 54, 8, 56, 51, 79, 81, 57, 37, 91,\n",
    " 1, 84, 84, 36, 66, 9, 89, 50, 42, 91, 50, 95, 90, 98, 39, 16, 82, 31, 92, 41,\n",
    " 45, 30, 66, 70, 34, 85, 94, 5, 3, 36, 72, 91, 84, 34, 87, 75, 53, 51, 20, 89, 51, 20]\n",
    "lcount = []\n",
    "for i in l:\n",
    "    a = l.count(i)\n",
    "    if a == 1:\n",
    "        lcount.append(i)\n",
    "print(len(l))\n",
    "print(len(lcount))\n",
    "\n",
    "\n",
    "####THIS ONE, bc ex asked for function!!\n",
    "def nunique(lst):\n",
    "    nuniques = [i for i in lst if lst.count(i) == 1]\n",
    "    return nuniques, len(nuniques)#determined & counted\n",
    "##basically list comprehension, that adds \n",
    "#the frequency of an item oly if it is eqaul to one.\n",
    "#returns list and lenght.\n",
    "#determined and counted\n",
    "\n",
    "print(nunique(l))"
   ]
  },
  {
   "cell_type": "markdown",
   "metadata": {},
   "source": [
    "6\\. Combination of functions\n",
    "\n",
    "Write two functions - one that returns the square of a number, and one that returns the cube. Now write a third function that returns the number raised to the 6th power using the two previous functions."
   ]
  },
  {
   "cell_type": "code",
   "execution_count": 49,
   "metadata": {},
   "outputs": [
    {
     "name": "stdout",
     "output_type": "stream",
     "text": [
      "4\n",
      "8\n"
     ]
    },
    {
     "data": {
      "text/plain": [
       "64"
      ]
     },
     "execution_count": 49,
     "metadata": {},
     "output_type": "execute_result"
    }
   ],
   "source": [
    "def square(a):\n",
    "    return a*a #pow(a,2)\n",
    "def cube(a):\n",
    "    return pow(a,3)#a*a*a# pow(a,3)\n",
    "\n",
    "def sixth(a):\n",
    "    return square(cube(a))\n",
    "\n",
    "print(square(2))\n",
    "print(cube(2))\n",
    "sixth(2)"
   ]
  },
  {
   "cell_type": "markdown",
   "metadata": {},
   "source": [
    "7\\. Cubes\n",
    "\n",
    "Create a list of the cubes of x for x in *[0, 10]* using:\n",
    "\n",
    "a) a for loop\n",
    "\n",
    "b) a list comprehension"
   ]
  },
  {
   "cell_type": "code",
   "execution_count": 33,
   "metadata": {},
   "outputs": [
    {
     "name": "stdout",
     "output_type": "stream",
     "text": [
      "[0, 1, 8, 27, 64, 125, 216, 343, 512, 729, 1000]\n",
      "[0, 1, 8, 27, 64, 125, 216, 343, 512, 729, 1000]\n"
     ]
    }
   ],
   "source": [
    "list_a = []\n",
    "list_b = []\n",
    "for i in range(11):\n",
    "    list_a.append(cube(i))\n",
    "print(list_a)\n",
    "\n",
    "list_b = [cube(i) for i in range(11)]\n",
    "print(list_b)"
   ]
  },
  {
   "cell_type": "markdown",
   "metadata": {},
   "source": [
    "8\\. Nested list comprehension\n",
    "\n",
    "A Pythagorean triple is an integer solution to the Pythagorean theorem $a^2+b^2=c^2$. The first Pythagorean triple is (3,4,5). Find and put in a tuple all unique Pythagorean triples for the positive integers a, b and c less than 100."
   ]
  },
  {
   "cell_type": "code",
   "execution_count": 50,
   "metadata": {},
   "outputs": [
    {
     "name": "stdout",
     "output_type": "stream",
     "text": [
      "3 4 5.0\n",
      "5 12 13.0\n",
      "6 8 10.0\n",
      "7 24 25.0\n",
      "8 15 17.0\n",
      "9 12 15.0\n",
      "9 40 41.0\n",
      "10 24 26.0\n",
      "11 60 61.0\n",
      "12 16 20.0\n",
      "12 35 37.0\n",
      "13 84 85.0\n",
      "14 48 50.0\n",
      "15 20 25.0\n",
      "15 36 39.0\n",
      "16 30 34.0\n",
      "16 63 65.0\n",
      "18 24 30.0\n",
      "18 80 82.0\n",
      "20 21 29.0\n",
      "20 48 52.0\n",
      "21 28 35.0\n",
      "21 72 75.0\n",
      "24 32 40.0\n",
      "24 45 51.0\n",
      "24 70 74.0\n",
      "25 60 65.0\n",
      "27 36 45.0\n",
      "28 45 53.0\n",
      "30 40 50.0\n",
      "30 72 78.0\n",
      "32 60 68.0\n",
      "33 44 55.0\n",
      "33 56 65.0\n",
      "35 84 91.0\n",
      "36 48 60.0\n",
      "36 77 85.0\n",
      "39 52 65.0\n",
      "39 80 89.0\n",
      "40 42 58.0\n",
      "40 75 85.0\n",
      "42 56 70.0\n",
      "45 60 75.0\n",
      "48 55 73.0\n",
      "48 64 80.0\n",
      "51 68 85.0\n",
      "54 72 90.0\n",
      "57 76 95.0\n",
      "60 63 87.0\n",
      "65 72 97.0\n",
      "(3, 4, 5.0, 5, 12, 13.0, 6, 8, 10.0, 7, 24, 25.0, 8, 15, 17.0, 9, 12, 15.0, 9, 40, 41.0, 10, 24, 26.0, 11, 60, 61.0, 12, 16, 20.0, 12, 35, 37.0, 13, 84, 85.0, 14, 48, 50.0, 15, 20, 25.0, 15, 36, 39.0, 16, 30, 34.0, 16, 63, 65.0, 18, 24, 30.0, 18, 80, 82.0, 20, 21, 29.0, 20, 48, 52.0, 21, 28, 35.0, 21, 72, 75.0, 24, 32, 40.0, 24, 45, 51.0, 24, 70, 74.0, 25, 60, 65.0, 27, 36, 45.0, 28, 45, 53.0, 30, 40, 50.0, 30, 72, 78.0, 32, 60, 68.0, 33, 44, 55.0, 33, 56, 65.0, 35, 84, 91.0, 36, 48, 60.0, 36, 77, 85.0, 39, 52, 65.0, 39, 80, 89.0, 40, 42, 58.0, 40, 75, 85.0, 42, 56, 70.0, 45, 60, 75.0, 48, 55, 73.0, 48, 64, 80.0, 51, 68, 85.0, 54, 72, 90.0, 57, 76, 95.0, 60, 63, 87.0, 65, 72, 97.0)\n"
     ]
    }
   ],
   "source": [
    "tuple4 = ()\n",
    "for i in range(100): ##NOT IN LIST COMPREHENSION; SEE CELL BELOW\n",
    "    for j in range(i,100):\n",
    "        a = sqrt(i**2 + j**2)\n",
    "        if a - int(a) == 0:\n",
    "            if i!=0 and j!=0 and a<100:\n",
    "                print(i,j, a)\n",
    "                tuple4 = tuple4 + (i,j,a)\n",
    "print(tuple4)"
   ]
  },
  {
   "cell_type": "code",
   "execution_count": 52,
   "metadata": {
    "tags": []
   },
   "outputs": [
    {
     "name": "stdout",
     "output_type": "stream",
     "text": [
      "[(3, 4, 5), (5, 12, 13), (6, 8, 10), (7, 24, 25), (8, 15, 17), (9, 12, 15), (9, 40, 41), (10, 24, 26), (11, 60, 61), (12, 16, 20), (12, 35, 37), (13, 84, 85), (14, 48, 50), (15, 20, 25), (15, 36, 39), (16, 30, 34), (16, 63, 65), (18, 24, 30), (18, 80, 82), (20, 21, 29), (20, 48, 52), (21, 28, 35), (21, 72, 75), (24, 32, 40), (24, 45, 51), (24, 70, 74), (25, 60, 65), (27, 36, 45), (28, 45, 53), (30, 40, 50), (30, 72, 78), (32, 60, 68), (33, 44, 55), (33, 56, 65), (35, 84, 91), (36, 48, 60), (36, 77, 85), (39, 52, 65), (39, 80, 89), (40, 42, 58), (40, 75, 85), (42, 56, 70), (45, 60, 75), (48, 55, 73), (48, 64, 80), (51, 68, 85), (54, 72, 90), (57, 76, 95), (60, 63, 87), (65, 72, 97)]\n"
     ]
    }
   ],
   "source": [
    "triples = [(a,b,c) for a in range(1,100) for b in range(a, 100) for c in range(b, 100) if a**2 + b**2 == c**2]\n",
    "print(triples)"
   ]
  },
  {
   "cell_type": "markdown",
   "metadata": {},
   "source": [
    "9\\. Normalization\n",
    "\n",
    "Write a function that takes a tuple of numbers and returns it with the entries normalized to one"
   ]
  },
  {
   "cell_type": "code",
   "execution_count": 40,
   "metadata": {},
   "outputs": [
    {
     "name": "stdout",
     "output_type": "stream",
     "text": [
      "(0.0, 0.0, 0.0, 1.0)\n",
      "(0.2721655269759087, 0.408248290463863, 0.5443310539518174, 0.6804138174397717)\n"
     ]
    },
    {
     "data": {
      "text/plain": [
       "('0.2721655269759087',\n",
       " '0.408248290463863',\n",
       " '0.5443310539518174',\n",
       " '0.6804138174397717')"
      ]
     },
     "execution_count": 40,
     "metadata": {},
     "output_type": "execute_result"
    }
   ],
   "source": [
    "from numpy import sqrt\n",
    "def normalization(a):\n",
    "    ran = len(a) \n",
    "    buffer = 0\n",
    "    for i in a:\n",
    "        buffer += i**2\n",
    "    norma = sqrt(buffer)\n",
    "    vec_out = ()\n",
    "    for i in range(ran):\n",
    "        item = a[i]/norma\n",
    "        vec_out = vec_out + (str(item),)\n",
    "    return vec_out\n",
    "\n",
    "def normer(a): #this one!!\n",
    "    try:\n",
    "        squares = [i**2 for i in a] #get the squares\n",
    "        norm = sqrt(sum(squares)) #roots the sum\n",
    "        vec_out = [i/norm for i in a] #divides each element\n",
    "        return tuple(vec_out) #by the sum. returns tuple\n",
    "    except Exception as e:\n",
    "        print(f'Please, insert a tuple of ints or floats\\n', e)\n",
    "        raise\n",
    "vettore = (0,0,0,1)\n",
    "vettore2 = (2.,3.,4.,5.)\n",
    "vettore3 = (3,4)\n",
    "print(normer(vettore))\n",
    "print(normer(vettore2))\n",
    "normalization(vettore)\n",
    "normalization(vettore2)"
   ]
  },
  {
   "cell_type": "code",
   "execution_count": null,
   "metadata": {},
   "outputs": [],
   "source": []
  }
 ],
 "metadata": {
  "kernelspec": {
   "display_name": "Python 3 (ipykernel)",
   "language": "python",
   "name": "python3"
  },
  "language_info": {
   "codemirror_mode": {
    "name": "ipython",
    "version": 3
   },
   "file_extension": ".py",
   "mimetype": "text/x-python",
   "name": "python",
   "nbconvert_exporter": "python",
   "pygments_lexer": "ipython3",
   "version": "3.12.4"
  }
 },
 "nbformat": 4,
 "nbformat_minor": 4
}
