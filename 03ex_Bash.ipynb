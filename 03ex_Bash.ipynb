{
 "cells": [
  {
   "cell_type": "markdown",
   "id": "b5746bd0",
   "metadata": {},
   "source": [
    "The following exercises are meant to be solved by gathering the bash commands incrimentally in two scripts, one for ex 1.* the other for ex 2.* "
   ]
  },
  {
   "cell_type": "markdown",
   "id": "4e60de78",
   "metadata": {},
   "source": [
    "### Ex 1"
   ]
  },
  {
   "cell_type": "markdown",
   "id": "6759df36",
   "metadata": {},
   "source": [
    "1\\.a Make a new directory called `students` in your home. Download a csv file with the list of students of this lab from [here](https://www.dropbox.com/s/867rtx3az6e9gm8/LCP_22-23_students.csv) (use the `wget` command) and copy that to `students`. First check whether the file is already there"
   ]
  },
  {
   "cell_type": "markdown",
   "id": "798c0c9d",
   "metadata": {},
   "source": [
    "1\\.b Make two new files, one containing the students belonging to PoD, the other to Physics."
   ]
  },
  {
   "cell_type": "code",
   "execution_count": 1,
   "id": "e0915815-48c6-46e3-858b-d4e6395ded8c",
   "metadata": {
    "tags": []
   },
   "outputs": [],
   "source": [
    "%%bash\n",
    "\n",
    "mkdir students"
   ]
  },
  {
   "cell_type": "code",
   "execution_count": 1,
   "id": "b383073a-f3af-4a62-999a-4da712fb960b",
   "metadata": {
    "tags": []
   },
   "outputs": [
    {
     "name": "stderr",
     "output_type": "stream",
     "text": [
      "mkdir: cannot create directory ‘students’: File exists\n",
      "mv: cannot stat 'LCP_22-23_students.csv?rlkey=47fakvatrtif3q3qw4q97p5b7': No such file or directory\n",
      "--2024-11-06 23:42:46--  https://www.dropbox.com/scl/fibxv17nrbrl83vw6qrkiu9/LCP_22-23_students.csv?rlkey=47fakvatrtif3q3qw4q97p5b7\n",
      "Vim: Warning: Output is not to a terminal\n",
      "Vim: Warning: Input is not from a terminal\n",
      "Resolving www.dropbox.com (www.dropbox.com)... 162.125.69.18, 2620:100:6025:18::a27d:4512\n",
      "Connecting to www.dropbox.com (www.dropbox.com)|162.125.69.18|:443... connected.\n",
      "HTTP request sent, awaiting response... 404 Not Found\n",
      "2024-11-06 23:42:47 ERROR 404: Not Found.\n",
      "\n"
     ]
    },
    {
     "name": "stdout",
     "output_type": "stream",
     "text": [
      "\u001b[?1006;1000l\u001b[?1002l\u001b[?2004l\u001b[>4;m\u001b[?1004l\u001b[?2004l\u001b[?1l\u001b>\u001b[2J\u001b[?47l\u001b8\u001b[?25h\u001b[>4;mVim: Error reading input, exiting...1H<CP_22-23_students.csv?rlkey=47fakvatrtif3q3qw4q97p5b7\" [New]\u001b[1;1H\u001b[4m\u001b[33m  1 \u001b[m\u001b[4m                                                                            \u001b[m\u001b[2;1H\u001b[1m\u001b[34m~                                                                               \u001b[3;1H~                                                                               \u001b[4;1H~                                                                               \u001b[5;1H~                                                                               \u001b[6;1H~                                                                               \u001b[7;1H~                                                                               \u001b[8;1H~                                                                               \u001b[9;1H~                                                                               \u001b[10;1H~                                                                               \u001b[11;1H~                                                                               \u001b[12;1H~                                                                               \u001b[13;1H~                                                                               \u001b[14;1H~                                                                               \u001b[15;1H~                                                                               \u001b[16;1H~                                                                               \u001b[17;1H~                                                                               \u001b[18;1H~                                                                               \u001b[19;1H~                                                                               \u001b[20;1H~                                                                               \u001b[21;1H~                                                                               \u001b[22;1H~                                                                               \u001b[23;1H~                                                                               \u001b[m\u001b[24;63H0,0-1\u001b[9CAll\u001b]2;LCP_22-23_students.csv?rlkey=47f...ationalPhysics_Y7/students) - VIM\u0007\u001b[1;5H\u001b[?25h\u001b[?4m\u0007\u001b[?25l\u001b[?25h\u001b[?25l\u001b[?25h\u001b[?25l\u001b[?25h\u001b[?25l\u001b[24;1H\u001b[1m\u001b[37m\u001b[41mE20: Mark not set\u001b[m\u001b[24;18H\u001b[K\u001b[24;63H0,0-1\u001b[9CAll\u001b[1;5H\u001b[?25h\u001b[?25l\u001b[24;1H\u001b[1m--\u001b[m\u001b[1m\u001b[37m\u001b[41m0\u001b[\u001b[1m INSERT\u001b[m\u001b[1m\u001b[37m\u001b[41m \u001b[\u001b[1m --\u001b[m\u001b[1m\u001b[37m\u001b[41mt\u001b[m\u001b[24;13H\u001b[K\u001b[24;63H0,1\u001b[11CAll\n",
      "Vim: preserving files...\n",
      "Vim: Finished.\n",
      "\u001b[24;1H\u001b]2;Thanks for flying Vim\u0007\u001b[23;2t\u001b[23;1t\u001b[22;2t\u001b[22;1t\u001b[23;2t\u001b[23;1t\u001b[J"
     ]
    },
    {
     "ename": "CalledProcessError",
     "evalue": "Command 'b'\\nmkdir students\\n\\nwget https://www.dropbox.com/scl/fibxv17nrbrl83vw6qrkiu9/LCP_22-23_students.csv?rlkey=47fakvatrtif3q3qw4q97p5b7&e=1\\n\\nmv \\'LCP_22-23_students.csv?rlkey=47fakvatrtif3q3qw4q97p5b7\\' students\\n\\ncd students/\\n\\nvim \\'LCP_22-23_students.csv?rlkey=47fakvatrtif3q3qw4q97p5b7\\' \\n\\nmv \\'LCP_22-23_students.csv?rlkey=47fakvatrtif3q3qw4q97p5b7\\' ./LCP2223stud.csv\\n\\ncat LCP2223stud.csv | grep \"PoD\" > Pod_stud.csv\\n\\n\\ncat Pod_stud.csv\\n\\ncat LCP2223stud.csv | grep \"Physics\" > Physics_stud.csv\\n\\n'' returned non-zero exit status 1.",
     "output_type": "error",
     "traceback": [
      "\u001b[0;31m---------------------------------------------------------------------------\u001b[0m",
      "\u001b[0;31mCalledProcessError\u001b[0m                        Traceback (most recent call last)",
      "Cell \u001b[0;32mIn[1], line 1\u001b[0m\n\u001b[0;32m----> 1\u001b[0m get_ipython()\u001b[38;5;241m.\u001b[39mrun_cell_magic(\u001b[38;5;124m'\u001b[39m\u001b[38;5;124mbash\u001b[39m\u001b[38;5;124m'\u001b[39m, \u001b[38;5;124m'\u001b[39m\u001b[38;5;124m'\u001b[39m, \u001b[38;5;124m'\u001b[39m\u001b[38;5;130;01m\\n\u001b[39;00m\u001b[38;5;124mmkdir students\u001b[39m\u001b[38;5;130;01m\\n\u001b[39;00m\u001b[38;5;130;01m\\n\u001b[39;00m\u001b[38;5;124mwget https://www.dropbox.com/scl/fibxv17nrbrl83vw6qrkiu9/LCP_22-23_students.csv?rlkey=47fakvatrtif3q3qw4q97p5b7&e=1\u001b[39m\u001b[38;5;130;01m\\n\u001b[39;00m\u001b[38;5;130;01m\\n\u001b[39;00m\u001b[38;5;124mmv \u001b[39m\u001b[38;5;130;01m\\'\u001b[39;00m\u001b[38;5;124mLCP_22-23_students.csv?rlkey=47fakvatrtif3q3qw4q97p5b7\u001b[39m\u001b[38;5;130;01m\\'\u001b[39;00m\u001b[38;5;124m students\u001b[39m\u001b[38;5;130;01m\\n\u001b[39;00m\u001b[38;5;130;01m\\n\u001b[39;00m\u001b[38;5;124mcd students/\u001b[39m\u001b[38;5;130;01m\\n\u001b[39;00m\u001b[38;5;130;01m\\n\u001b[39;00m\u001b[38;5;124mvim \u001b[39m\u001b[38;5;130;01m\\'\u001b[39;00m\u001b[38;5;124mLCP_22-23_students.csv?rlkey=47fakvatrtif3q3qw4q97p5b7\u001b[39m\u001b[38;5;130;01m\\'\u001b[39;00m\u001b[38;5;124m \u001b[39m\u001b[38;5;130;01m\\n\u001b[39;00m\u001b[38;5;130;01m\\n\u001b[39;00m\u001b[38;5;124mmv \u001b[39m\u001b[38;5;130;01m\\'\u001b[39;00m\u001b[38;5;124mLCP_22-23_students.csv?rlkey=47fakvatrtif3q3qw4q97p5b7\u001b[39m\u001b[38;5;130;01m\\'\u001b[39;00m\u001b[38;5;124m ./LCP2223stud.csv\u001b[39m\u001b[38;5;130;01m\\n\u001b[39;00m\u001b[38;5;130;01m\\n\u001b[39;00m\u001b[38;5;124mcat LCP2223stud.csv | grep \u001b[39m\u001b[38;5;124m\"\u001b[39m\u001b[38;5;124mPoD\u001b[39m\u001b[38;5;124m\"\u001b[39m\u001b[38;5;124m > Pod_stud.csv\u001b[39m\u001b[38;5;130;01m\\n\u001b[39;00m\u001b[38;5;130;01m\\n\u001b[39;00m\u001b[38;5;130;01m\\n\u001b[39;00m\u001b[38;5;124mcat Pod_stud.csv\u001b[39m\u001b[38;5;130;01m\\n\u001b[39;00m\u001b[38;5;130;01m\\n\u001b[39;00m\u001b[38;5;124mcat LCP2223stud.csv | grep \u001b[39m\u001b[38;5;124m\"\u001b[39m\u001b[38;5;124mPhysics\u001b[39m\u001b[38;5;124m\"\u001b[39m\u001b[38;5;124m > Physics_stud.csv\u001b[39m\u001b[38;5;130;01m\\n\u001b[39;00m\u001b[38;5;130;01m\\n\u001b[39;00m\u001b[38;5;124m'\u001b[39m)\n",
      "File \u001b[0;32m~/anaconda3/lib/python3.12/site-packages/IPython/core/interactiveshell.py:2541\u001b[0m, in \u001b[0;36mInteractiveShell.run_cell_magic\u001b[0;34m(self, magic_name, line, cell)\u001b[0m\n\u001b[1;32m   2539\u001b[0m \u001b[38;5;28;01mwith\u001b[39;00m \u001b[38;5;28mself\u001b[39m\u001b[38;5;241m.\u001b[39mbuiltin_trap:\n\u001b[1;32m   2540\u001b[0m     args \u001b[38;5;241m=\u001b[39m (magic_arg_s, cell)\n\u001b[0;32m-> 2541\u001b[0m     result \u001b[38;5;241m=\u001b[39m fn(\u001b[38;5;241m*\u001b[39margs, \u001b[38;5;241m*\u001b[39m\u001b[38;5;241m*\u001b[39mkwargs)\n\u001b[1;32m   2543\u001b[0m \u001b[38;5;66;03m# The code below prevents the output from being displayed\u001b[39;00m\n\u001b[1;32m   2544\u001b[0m \u001b[38;5;66;03m# when using magics with decorator @output_can_be_silenced\u001b[39;00m\n\u001b[1;32m   2545\u001b[0m \u001b[38;5;66;03m# when the last Python token in the expression is a ';'.\u001b[39;00m\n\u001b[1;32m   2546\u001b[0m \u001b[38;5;28;01mif\u001b[39;00m \u001b[38;5;28mgetattr\u001b[39m(fn, magic\u001b[38;5;241m.\u001b[39mMAGIC_OUTPUT_CAN_BE_SILENCED, \u001b[38;5;28;01mFalse\u001b[39;00m):\n",
      "File \u001b[0;32m~/anaconda3/lib/python3.12/site-packages/IPython/core/magics/script.py:155\u001b[0m, in \u001b[0;36mScriptMagics._make_script_magic.<locals>.named_script_magic\u001b[0;34m(line, cell)\u001b[0m\n\u001b[1;32m    153\u001b[0m \u001b[38;5;28;01melse\u001b[39;00m:\n\u001b[1;32m    154\u001b[0m     line \u001b[38;5;241m=\u001b[39m script\n\u001b[0;32m--> 155\u001b[0m \u001b[38;5;28;01mreturn\u001b[39;00m \u001b[38;5;28mself\u001b[39m\u001b[38;5;241m.\u001b[39mshebang(line, cell)\n",
      "File \u001b[0;32m~/anaconda3/lib/python3.12/site-packages/IPython/core/magics/script.py:315\u001b[0m, in \u001b[0;36mScriptMagics.shebang\u001b[0;34m(self, line, cell)\u001b[0m\n\u001b[1;32m    310\u001b[0m \u001b[38;5;28;01mif\u001b[39;00m args\u001b[38;5;241m.\u001b[39mraise_error \u001b[38;5;129;01mand\u001b[39;00m p\u001b[38;5;241m.\u001b[39mreturncode \u001b[38;5;241m!=\u001b[39m \u001b[38;5;241m0\u001b[39m:\n\u001b[1;32m    311\u001b[0m     \u001b[38;5;66;03m# If we get here and p.returncode is still None, we must have\u001b[39;00m\n\u001b[1;32m    312\u001b[0m     \u001b[38;5;66;03m# killed it but not yet seen its return code. We don't wait for it,\u001b[39;00m\n\u001b[1;32m    313\u001b[0m     \u001b[38;5;66;03m# in case it's stuck in uninterruptible sleep. -9 = SIGKILL\u001b[39;00m\n\u001b[1;32m    314\u001b[0m     rc \u001b[38;5;241m=\u001b[39m p\u001b[38;5;241m.\u001b[39mreturncode \u001b[38;5;129;01mor\u001b[39;00m \u001b[38;5;241m-\u001b[39m\u001b[38;5;241m9\u001b[39m\n\u001b[0;32m--> 315\u001b[0m     \u001b[38;5;28;01mraise\u001b[39;00m CalledProcessError(rc, cell)\n",
      "\u001b[0;31mCalledProcessError\u001b[0m: Command 'b'\\nmkdir students\\n\\nwget https://www.dropbox.com/scl/fibxv17nrbrl83vw6qrkiu9/LCP_22-23_students.csv?rlkey=47fakvatrtif3q3qw4q97p5b7&e=1\\n\\nmv \\'LCP_22-23_students.csv?rlkey=47fakvatrtif3q3qw4q97p5b7\\' students\\n\\ncd students/\\n\\nvim \\'LCP_22-23_students.csv?rlkey=47fakvatrtif3q3qw4q97p5b7\\' \\n\\nmv \\'LCP_22-23_students.csv?rlkey=47fakvatrtif3q3qw4q97p5b7\\' ./LCP2223stud.csv\\n\\ncat LCP2223stud.csv | grep \"PoD\" > Pod_stud.csv\\n\\n\\ncat Pod_stud.csv\\n\\ncat LCP2223stud.csv | grep \"Physics\" > Physics_stud.csv\\n\\n'' returned non-zero exit status 1."
     ]
    }
   ],
   "source": [
    "wget https://www.dropbox.com/scl/fibxv17nrbrl83vw6qrkiu9/LCP_22-23_students.csv?rlkey=47fakvatrtif3q3qw4q97p5b7&e=1\n",
    "\n",
    "mv 'LCP_22-23_students.csv?rlkey=47fakvatrtif3q3qw4q97p5b7' students\n",
    "\n",
    "cd students/\n",
    "\n",
    "vim 'LCP_22-23_students.csv?rlkey=47fakvatrtif3q3qw4q97p5b7' \n",
    "\n",
    "mv 'LCP_22-23_students.csv?rlkey=47fakvatrtif3q3qw4q97p5b7' ./LCP2223stud.csv\n",
    "\n",
    "cat LCP2223stud.csv | grep \"PoD\" > Pod_stud.csv\n",
    "\n",
    "\n",
    "cat Pod_stud.csv\n",
    "\n",
    "cat LCP2223stud.csv | grep \"Physics\" > Physics_stud.csv"
   ]
  },
  {
   "cell_type": "markdown",
   "id": "8a43d622",
   "metadata": {},
   "source": [
    "1\\.c For each letter of the alphabet, count the number of students whose surname starts with that letter. "
   ]
  },
  {
   "cell_type": "code",
   "execution_count": 10,
   "id": "8460baaa-a2aa-4b39-ae22-5a28e485e1d1",
   "metadata": {
    "tags": []
   },
   "outputs": [
    {
     "name": "stdout",
     "output_type": "stream",
     "text": [
      "2\n",
      "13\n",
      "3\n",
      "6\n",
      "1\n",
      "4\n",
      "4\n",
      "1\n",
      "1\n",
      "1\n",
      "1\n",
      "3\n",
      "7\n",
      "0\n",
      "0\n",
      "6\n",
      "0\n",
      "2\n",
      "7\n",
      "2\n",
      "0\n",
      "3\n",
      "2\n",
      "0\n",
      "0\n",
      "5\n"
     ]
    }
   ],
   "source": [
    "%%bash\n",
    "##need to remove metadata\n",
    "sed -i \"1d\" LCP2223stud.csv\n",
    "\n",
    "for i in {A..Z}; do grep -c \"^$i\" ./students/LCP2223stud.csv; done\n",
    "\n",
    "\n",
    "\n"
   ]
  },
  {
   "cell_type": "markdown",
   "id": "311d392a-3194-445f-a8a5-9f250422dd06",
   "metadata": {},
   "source": [
    "1\\.d Find out which is the letter with most counts."
   ]
  },
  {
   "cell_type": "markdown",
   "id": "1e288101-d73c-4561-a010-40cbccf689fb",
   "metadata": {},
   "source": [
    "## See search4greatness.sh"
   ]
  },
  {
   "cell_type": "markdown",
   "id": "086a043c",
   "metadata": {},
   "source": [
    "1\\.e Assume an obvious numbering of the students in the file (first line is 1, second line is 2, etc.), group students \"modulo 18\", i.e. 1,19,37,.. 2,20,38,.. etc. and put each group in a separate file  "
   ]
  },
  {
   "cell_type": "markdown",
   "id": "0250c4a3-6562-4e8d-a832-f82771a5c879",
   "metadata": {},
   "source": [
    "## see Moduler.sh\n",
    "\n",
    "to be adjusted because if someone has double name/surname, it is counted two times. Done."
   ]
  },
  {
   "cell_type": "markdown",
   "id": "1d730d21",
   "metadata": {},
   "source": [
    "### Ex 2"
   ]
  },
  {
   "cell_type": "markdown",
   "id": "4b87ecb7",
   "metadata": {},
   "source": [
    "2.a Make a copy of the file `data.csv` removing the metadata and the commas between numbers; call it `data.txt`"
   ]
  },
  {
   "cell_type": "code",
   "execution_count": null,
   "id": "f48ac330-ba9f-4a22-9f20-8733badc8016",
   "metadata": {},
   "outputs": [],
   "source": [
    "%%bash\n",
    "grep -v '^#' data.csv > data.txt\n",
    "sed -i 's/,//g' data.txt"
   ]
  },
  {
   "cell_type": "markdown",
   "id": "344048c8",
   "metadata": {},
   "source": [
    "2\\.b How many even numbers are there?"
   ]
  },
  {
   "cell_type": "markdown",
   "id": "2e107424-d129-4d54-8125-e09f4b759f94",
   "metadata": {},
   "source": [
    "## See evener.sh"
   ]
  },
  {
   "cell_type": "markdown",
   "id": "2a27138d",
   "metadata": {},
   "source": [
    "2\\.c Distinguish the entries on the basis of `sqrt(X^2 + Y^2 + Z^2)` is greater or smaller than `100*sqrt(3)/2`. Count the entries of each of the two groups "
   ]
  },
  {
   "cell_type": "markdown",
   "id": "de6911a7-69ff-4090-a0b0-e51a2888483c",
   "metadata": {},
   "source": [
    "## See distancer.sh"
   ]
  },
  {
   "cell_type": "markdown",
   "id": "e937ef4e",
   "metadata": {},
   "source": [
    "2\\.d Make `n` copies of data.txt (with `n` an input parameter of the script), where the i-th copy has all the numbers divided by i (with `1<=i<=n`)."
   ]
  }
 ],
 "metadata": {
  "kernelspec": {
   "display_name": "Python 3 (ipykernel)",
   "language": "python",
   "name": "python3"
  },
  "language_info": {
   "codemirror_mode": {
    "name": "ipython",
    "version": 3
   },
   "file_extension": ".py",
   "mimetype": "text/x-python",
   "name": "python",
   "nbconvert_exporter": "python",
   "pygments_lexer": "ipython3",
   "version": "3.12.4"
  }
 },
 "nbformat": 4,
 "nbformat_minor": 5
}
