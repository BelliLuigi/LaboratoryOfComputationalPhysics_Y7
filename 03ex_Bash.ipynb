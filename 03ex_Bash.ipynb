{
 "cells": [
  {
   "cell_type": "markdown",
   "id": "b5746bd0",
   "metadata": {},
   "source": [
    "The following exercises are meant to be solved by gathering the bash commands incrimentally in two scripts, one for ex 1.* the other for ex 2.* "
   ]
  },
  {
   "cell_type": "markdown",
   "id": "4e60de78",
   "metadata": {},
   "source": [
    "### Ex 1"
   ]
  },
  {
   "cell_type": "markdown",
   "id": "6759df36",
   "metadata": {},
   "source": [
    "1\\.a Make a new directory called `students` in your home. Download a csv file with the list of students of this lab from [here](https://www.dropbox.com/s/867rtx3az6e9gm8/LCP_22-23_students.csv) (use the `wget` command) and copy that to `students`. First check whether the file is already there"
   ]
  },
  {
   "cell_type": "markdown",
   "id": "798c0c9d",
   "metadata": {},
   "source": [
    "1\\.b Make two new files, one containing the students belonging to PoD, the other to Physics."
   ]
  },
  {
   "cell_type": "code",
   "execution_count": 1,
   "id": "e0915815-48c6-46e3-858b-d4e6395ded8c",
   "metadata": {
    "tags": []
   },
   "outputs": [],
   "source": [
    "%%bash # jupyterlab magic: from now on it's run as bash\n",
    "\n",
    "mkdir students # create directory \"students\"\n",
    "\n",
    "wget https://www.dropbox.com/scl/fibxv17nrbrl83vw6qrkiu9/LCP_22-23_students.csv?rlkey=47fakvatrtif3q3qw4q97p5b7&e=1 # download\n",
    "\n",
    "cp 'LCP_22-23_students.csv?rlkey=47fakvatrtif3q3qw4q97p5b7' students # copying file\n",
    "\n",
    "ls students\n",
    "\n",
    "cd students/ #changing directory\n",
    "\n",
    "vim 'LCP_22-23_students.csv?rlkey=47fakvatrtif3q3qw4q97p5b7'  #open file\n",
    "\n",
    "mv 'LCP_22-23_students.csv?rlkey=47fakvatrtif3q3qw4q97p5b7' ./LCP2223stud.csv # change name\n",
    "\n",
    "#b)\n",
    "\n",
    "cat LCP2223stud.csv | grep \"PoD\" > Pod_stud.csv # cat file, then select lines w/ Pod and stdout to .csv file\n",
    "\n",
    "cat Pod_stud.csv # show file\n",
    "\n",
    "cat LCP2223stud.csv | grep \"Physics\" > Physics_stud.csv # same for physiscs\n",
    "\n"
   ]
  },
  {
   "cell_type": "markdown",
   "id": "8a43d622",
   "metadata": {},
   "source": [
    "1\\.c For each letter of the alphabet, count the number of students whose surname starts with that letter. "
   ]
  },
  {
   "cell_type": "code",
   "execution_count": 4,
   "id": "cb07a91e-8dce-41c5-bfcd-63d13b9703bf",
   "metadata": {},
   "outputs": [
    {
     "name": "stdout",
     "output_type": "stream",
     "text": [
      "/home/gigi/LaboratoryOfComputationalPhysics_Y7\n"
     ]
    }
   ],
   "source": [
    "!pwd"
   ]
  },
  {
   "cell_type": "code",
   "execution_count": 10,
   "id": "8460baaa-a2aa-4b39-ae22-5a28e485e1d1",
   "metadata": {
    "tags": []
   },
   "outputs": [
    {
     "name": "stdout",
     "output_type": "stream",
     "text": [
      "2\n",
      "13\n",
      "3\n",
      "6\n",
      "1\n",
      "3\n",
      "4\n",
      "1\n",
      "1\n",
      "1\n",
      "1\n",
      "3\n",
      "7\n",
      "0\n",
      "0\n",
      "6\n",
      "0\n",
      "2\n",
      "7\n",
      "2\n",
      "0\n",
      "3\n",
      "2\n",
      "0\n",
      "0\n",
      "5\n"
     ]
    }
   ],
   "source": [
    "%%bash\n",
    "##need to remove metadata\n",
    "######### !!!!!!!sed -i \"1d\" LCP2223stud.csv !!!!!!!!!!#sed is Stream Editor, tool for search replace text in files; -i directly modifies the file; \"1d\" is command: 1 is  first line of the file, d deletes it; .csv file is the target. \n",
    "\n",
    "for i in {A..Z}; do grep -c \"^$i\" /home/gigi/LaboratoryOfComputationalPhysics_Y7/students/LCP2223stud.csv ; done # for cycle\n",
    "# {A..Z} are all uppercase letter in alphabet. remember ; after for range. do also remember. grep -c, -c should be flag to count, count what you ask, count how many of that string he find. REGEX: ^ means start of the line, and $i is the iteration variable. \n",
    "# Remember ; and do, done\n",
    "\n",
    "\n",
    "\n"
   ]
  },
  {
   "cell_type": "markdown",
   "id": "311d392a-3194-445f-a8a5-9f250422dd06",
   "metadata": {},
   "source": [
    "1\\.d Find out which is the letter with most counts.\n",
    "\n",
    "See search4greatness.sh. Pasted here. Syke, that file is outdated. State of the art is below."
   ]
  },
  {
   "cell_type": "code",
   "execution_count": 22,
   "id": "c75a41cf-6e14-4589-ad1c-c450316381b8",
   "metadata": {},
   "outputs": [],
   "source": [
    "%%bash\n",
    "\n",
    "#!/bin/bash\n",
    "\n",
    "cd /home/gigi/LaboratoryOfComputationalPhysics_Y7/students/ ##cd into right dir\n",
    "\n",
    "\n",
    "variable=$(cat studbyinit.txt) # output of the previous script\n",
    "a=0 # initializing comparator variable\n",
    "letters=({A..Z}) # letters array\n",
    "index=-1 # initializing index that show the corresponding letter\n",
    "for i in $variable; do # normal cycle for \n",
    "\tletter=${letters[$index]} # identifying corresponding letter\n",
    "    if [ $i -gt $a ]; then # comparing iterator variable w/ comparator variable\n",
    "\t\texport a=$i # exporting a if i is greater than a\n",
    "        export maxletter=$letter # exporting the corresponding letter\n",
    "\t\techo $i, $maxletter > bigger.txt # echoing in bigger.txt, each echo cancel the previous, stdout is not in append mode (>>)\n",
    "\tfi # end of if\n",
    "    ((index++)) # updating index two ++ be aware\n",
    "done #done"
   ]
  },
  {
   "cell_type": "markdown",
   "id": "086a043c",
   "metadata": {},
   "source": [
    "1\\.e Assume an obvious numbering of the students in the file (first line is 1, second line is 2, etc.), group students \"modulo 18\", i.e. 1,19,37,.. 2,20,38,.. etc. and put each group in a separate file  "
   ]
  },
  {
   "cell_type": "markdown",
   "id": "0250c4a3-6562-4e8d-a832-f82771a5c879",
   "metadata": {},
   "source": [
    "see Moduler.sh, pasted below to be commented\n",
    "\n",
    "to be adjusted because if someone has double name/surname, it is counted two times. Done."
   ]
  },
  {
   "cell_type": "code",
   "execution_count": 23,
   "id": "88d2313d-3466-456c-95d4-3cbf4e00a980",
   "metadata": {},
   "outputs": [
    {
     "name": "stdout",
     "output_type": "stream",
     "text": [
      "#!/bin/bash\n",
      "# need to replace spaces because space is understanded as newline\n",
      "#sed -i 's/ //g' #flag -i to edit in place\n",
      "#s means substitute, / / is space, /g is global\n",
      "#run just one time lol.\n",
      "\n",
      "var=$(cat LCP2223stud.csv)\n",
      "n=1\n",
      "ncycle=0\n",
      "for i in $var; do\n",
      "\tif [ $n -le 18 ]; then\n",
      "\t\techo $i >> group$ncycle.csv\n",
      "\t\tn=$(( n + 1 ))\n",
      "\t\techo $n\n",
      "\telse\n",
      "\t\tn=1\n",
      "\t\tncycle=$(( $ncycle + 1 ))\n",
      "\tfi\n",
      "done\n",
      "\n",
      "ls group*.csv\n",
      "\n"
     ]
    }
   ],
   "source": [
    "#!/bin/bash\n",
    "# need to replace spaces because space is understanded as newline\n",
    "#sed -i 's/ //g' #flag -i to edit in place\n",
    "#s means substitute, / / is space, /g is global\n",
    "#run just one time lol.\n",
    "\n",
    "var=$(cat LCP2223stud.csv)   #load file w/o header\n",
    "n=1 # initialize module variable\n",
    "ncycle=0 # number of the cycle\n",
    "for i in $var; do # start for cycle\n",
    "\tif [ $n -le 18 ]; then # if module variable is less than 18\n",
    "\t\techo $i >> group$ncycle.csv # load the student into file of n-th cycle\n",
    "\t\tn=$(( n + 1 )) # update module variable\n",
    "\t\techo $n # show what is module variable\n",
    "\telse # if the module variable is greater than 18\n",
    "\t\tn=1 # restart the module variable to 1\n",
    "\t\tncycle=$(( $ncycle + 1 )) \n",
    "        echo $i >> group$ncycle.csv # load the student into file of n+1-th cycle\n",
    "\tfi\n",
    "done\n",
    "\n",
    "ls group*.csv # show every file\n"
   ]
  },
  {
   "cell_type": "markdown",
   "id": "1d730d21",
   "metadata": {},
   "source": [
    "### Ex 2"
   ]
  },
  {
   "cell_type": "markdown",
   "id": "4b87ecb7",
   "metadata": {},
   "source": [
    "2.a Make a copy of the file `data.csv` removing the metadata and the commas between numbers; call it `data.txt`"
   ]
  },
  {
   "cell_type": "code",
   "execution_count": null,
   "id": "f48ac330-ba9f-4a22-9f20-8733badc8016",
   "metadata": {},
   "outputs": [],
   "source": [
    "%%bash \n",
    "grep -v '^#' data.csv > data.txt # grep looks for pattern, -v select lines that do not match the pattern, stdout to data.txt\n",
    "sed -i 's/,//g' data.txt ## sed manipulates file, -i edit file in place, regex string: s/ substitute, , chr searched, // nothing chr that subtistute, g is global flag, every , is subtituded not only first."
   ]
  },
  {
   "cell_type": "markdown",
   "id": "344048c8",
   "metadata": {},
   "source": [
    "2\\.b How many even numbers are there?"
   ]
  },
  {
   "cell_type": "code",
   "execution_count": 33,
   "id": "182be712-5efd-4ffb-95fa-2f654e9eb05b",
   "metadata": {},
   "outputs": [
    {
     "name": "stdout",
     "output_type": "stream",
     "text": [
      "147\n"
     ]
    }
   ],
   "source": [
    "%%bash\n",
    "\n",
    "cd /home/gigi/LaboratoryOfComputationalPhysics_Y7/students/ ##cd into right dir\n",
    "\n",
    "nofeven=0 # initialize for variable that counts even numbers\n",
    "var=$(cat data.txt)  # loads file\n",
    "for line in $var; do # for takes lines as variable\n",
    "    for i in $line; do # for each line i take single value\n",
    "        a=$(( i % 2 )) # check if even\n",
    "        if [ $a == 0 ]; then # if even then\n",
    "            nofeven=$(( nofeven + 1)) # updating even counter\n",
    "        fi # done\n",
    "    done #done\n",
    "done\n",
    "echo $nofeven #echoes number of even numbers"
   ]
  },
  {
   "cell_type": "markdown",
   "id": "2a27138d",
   "metadata": {},
   "source": [
    "2\\.c Distinguish the entries on the basis of `sqrt(X^2 + Y^2 + Z^2)` is greater or smaller than `100*sqrt(3)/2`. Count the entries of each of the two groups "
   ]
  },
  {
   "cell_type": "code",
   "execution_count": 35,
   "id": "dabad009-fc91-454b-89fe-1cb906207649",
   "metadata": {},
   "outputs": [
    {
     "name": "stdout",
     "output_type": "stream",
     "text": [
      "#!/bin/bash\n",
      "#\n",
      "nlines=$(wc -l < data.txt)\n",
      "bigger=0\n",
      "smaller=0\n",
      "for (( i=1; i<=nlines; i++)); do\n",
      "\tline=$(sed -n \"${i}p\" data.txt)\n",
      "\txyz=$(echo $line | cut -d' ' -f1-3)\n",
      "\tz=$(echo $xyz | cut -d' ' -f3)\n",
      "\ty=$(echo $xyz | cut -d' ' -f2)\n",
      "\tx=$(echo $xyz | cut -d' ' -f1)\n",
      "\tz2=$(( z * z ))\n",
      "\ty2=$(( y * y ))\n",
      "\tx2=$(( x * x ))\n",
      "\txyz2=$(( x2 + y2 + z2 ))\n",
      "\tdistance=$( echo \"scale=2; sqrt(${xyz2})\" | bc )\n",
      "\tcontrol=$( echo \"scale=2; 100*sqrt(3)/2\" | bc)\n",
      "\tif (( $(echo \"$distance > $control\" | bc -l) )); then\n",
      "\t\t((bigger++))\n",
      "\telse\n",
      "\t\t((smaller++))\n",
      "\tfi\n",
      "done\n",
      "echo \"distance is bigger than control in $bigger entries\"\n",
      "echo \"is smaller in $smaller entries\"\n",
      "\n",
      "#var=$(cat data.txt)\n",
      "#for i in $var; do\n",
      "\n"
     ]
    }
   ],
   "source": [
    "%%bash\n",
    "\n",
    "#!/bin/bash\n",
    "#\n",
    "\n",
    "cd /home/gigi/LaboratoryOfComputationalPhysics_Y7/students/ ##cd into right dir, do it always, do not use relative paths\n",
    "\n",
    "nlines=$(wc -l < data.txt) # number of lines of data.txt, wc counts words, -l tells him to count lines, < data.txt stdin\n",
    "bigger=0 # initialize bigger than variable\n",
    "smaller=0 #init smaller-than variable\n",
    "control=$( echo \"scale=2; 100*sqrt(3)/2\" | bc) #echo generates string, scale set number of decimals, sqrt calc square root, | bc evaluates the result of the previous string\n",
    "for (( i=1; i<=nlines; i++)); do # for i starts from 1, it will be smaller than nlines, each cycle i is incremented by 1\n",
    "\tline=$(sed -n \"${i}p\" data.txt) # line is a line of data.txt, sed manipulates files, -n tells to not print all lines, \"{i}p\" print only i-th line\n",
    "\txyz=$(echo $line | cut -d' ' -f1-3) # from stout of echo, cuts following delimited -d ' ', after the first three items -f1-3\n",
    "\tz=$(echo $xyz | cut -d' ' -f3) # same takes third\n",
    "\ty=$(echo $xyz | cut -d' ' -f2)# second\n",
    "\tx=$(echo $xyz | cut -d' ' -f1)#first\n",
    "\tz2=$(( z * z )) #squaring\n",
    "\ty2=$(( y * y ))\n",
    "\tx2=$(( x * x ))\n",
    "\txyz2=$(( x2 + y2 + z2 )) #sum\n",
    "\tdistance=$( echo \"scale=2; sqrt(${xyz2})\" | bc ) \n",
    "\tif (( $(echo \"$distance > $control\" | bc -l) )); then\n",
    "\t\t((bigger++))\n",
    "        echo $distance >> biggerthancontrol.txt\n",
    "\telse\n",
    "\t\t((smaller++))\n",
    "        echo $distance >> smallerthancontrol.txt\n",
    "\tfi\n",
    "done\n",
    "echo \"distance is bigger than control in $bigger entries\"\n",
    "echo \"is smaller in $smaller entries\"\n",
    "\n"
   ]
  },
  {
   "cell_type": "markdown",
   "id": "e937ef4e",
   "metadata": {},
   "source": [
    "2\\.d Make `n` copies of data.txt (with `n` an input parameter of the script), where the i-th copy has all the numbers divided by i (with `1<=i<=n`)."
   ]
  },
  {
   "cell_type": "code",
   "execution_count": 36,
   "id": "4dd37f8b-74aa-4f97-899b-b72e1fdfcab1",
   "metadata": {},
   "outputs": [
    {
     "name": "stdout",
     "output_type": "stream",
     "text": [
      "#!/bin/bash\n",
      "\n",
      "n=$1\n",
      "file=$(cat data.txt)\n",
      "for i in $(seq 1 $n); do\n",
      "\tfor d in $file; do\n",
      "\t\tdivided=$( echo \"scale=2; $d/$i\" | bc >> divdata${i}.txt )\n",
      "\tdone\n",
      "done\n"
     ]
    }
   ],
   "source": [
    "%%bash\n",
    "#!/bin/bash\n",
    "#this is divider.sh, to launch do \n",
    "# !./divider.sh n\n",
    "#probably one needs to do chmod -x or something\n",
    "\n",
    "n=$1 #assign first cl arg to n, so i can chose how many copies to do\n",
    "file=$(cat data.txt) # loads file in variable\n",
    "for i in $(seq 1 $n); do # iterate in 1 through n, seq is sequence\n",
    "\tfor d in $file; do # d is each item of file\n",
    "\t\tdivided=$( echo \"scale=2; $d/$i\" | bc >> divdata${i}.txt ) #divides, stdout appended to divdata i\n",
    "\tdone\n",
    "done\n"
   ]
  }
 ],
 "metadata": {
  "kernelspec": {
   "display_name": "Python 3 (ipykernel)",
   "language": "python",
   "name": "python3"
  },
  "language_info": {
   "codemirror_mode": {
    "name": "ipython",
    "version": 3
   },
   "file_extension": ".py",
   "mimetype": "text/x-python",
   "name": "python",
   "nbconvert_exporter": "python",
   "pygments_lexer": "ipython3",
   "version": "3.12.2"
  }
 },
 "nbformat": 4,
 "nbformat_minor": 5
}
