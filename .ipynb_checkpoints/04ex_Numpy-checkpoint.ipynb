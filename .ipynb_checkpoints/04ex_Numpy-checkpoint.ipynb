{
 "cells": [
  {
   "cell_type": "markdown",
   "metadata": {},
   "source": [
    "### Numpy basics"
   ]
  },
  {
   "cell_type": "markdown",
   "metadata": {},
   "source": [
    "1\\. Find the row, column and overall means for the following matrix:\n",
    "\n",
    "```python\n",
    "m = np.arange(12).reshape((3,4))\n",
    "```"
   ]
  },
  {
   "cell_type": "code",
   "execution_count": 2,
   "metadata": {
    "tags": []
   },
   "outputs": [
    {
     "data": {
      "text/plain": [
       "5.5"
      ]
     },
     "execution_count": 2,
     "metadata": {},
     "output_type": "execute_result"
    }
   ],
   "source": [
    "import numpy as np\n",
    "m = np.arange(12).reshape((3,4))\n",
    "m = np.array(m)\n",
    "m.shape\n",
    "m.ndim\n",
    "m.mean()"
   ]
  },
  {
   "cell_type": "markdown",
   "metadata": {},
   "source": [
    "2\\. Find the outer product of the following two vecotrs\n",
    "\n",
    "```python\n",
    "u = np.array([1,3,5,7])\n",
    "v = np.array([2,4,6,8])\n",
    "```\n",
    "\n",
    "Do this in the following ways:\n",
    "\n",
    "   * Using the function outer in numpy\n",
    "   * Using a nested for loop or list comprehension\n",
    "   * Using numpy broadcasting operatoins\n"
   ]
  },
  {
   "cell_type": "code",
   "execution_count": 3,
   "metadata": {
    "tags": []
   },
   "outputs": [
    {
     "name": "stdout",
     "output_type": "stream",
     "text": [
      "w/ outer \n",
      " [[ 2  4  6  8]\n",
      " [ 6 12 18 24]\n",
      " [10 20 30 40]\n",
      " [14 28 42 56]] \n",
      "\n",
      "[[ 2.  4.  6.  8.]\n",
      " [ 6. 12. 18. 24.]\n",
      " [10. 20. 30. 40.]\n",
      " [14. 28. 42. 56.]]\n"
     ]
    }
   ],
   "source": [
    "u = np.array([1,3,5,7])\n",
    "v = np.array([2,4,6,8])\n",
    "\n",
    "a = np.outer(u,v)\n",
    "print(\"w/ outer \\n\", a, \"\\n\")\n",
    "\n",
    "nested = np.zeros((4,4))\n",
    "#print(nested)\n",
    "for i in np.arange(4):\n",
    "    for j in np.arange(4):\n",
    "        element = u[i]*v[j]\n",
    "        nested[(i,j)] = element\n",
    "    \n",
    "print(nested)"
   ]
  },
  {
   "cell_type": "code",
   "execution_count": 4,
   "metadata": {
    "tags": []
   },
   "outputs": [
    {
     "name": "stdout",
     "output_type": "stream",
     "text": [
      "[[ 2  6 10 14]\n",
      " [ 4 12 20 28]\n",
      " [ 6 18 30 42]\n",
      " [ 8 24 40 56]]\n"
     ]
    }
   ],
   "source": [
    "u_c = u.copy()\n",
    "v_c = v.copy()\n",
    "v_c = v_c.reshape(4,1)\n",
    "print(u_c * v_c)\n"
   ]
  },
  {
   "cell_type": "markdown",
   "metadata": {},
   "source": [
    "3\\. Create a 10 by 6 matrix of random uniform numbers. Set all rows with any entry less than 0.1 to be zero\n",
    "\n",
    "Hint: Use the following numpy functions - np.random.random, np.any as well as Boolean indexing and the axis argument."
   ]
  },
  {
   "cell_type": "code",
   "execution_count": 5,
   "metadata": {
    "tags": []
   },
   "outputs": [
    {
     "name": "stdout",
     "output_type": "stream",
     "text": [
      "[[0.24105159 0.18903829 0.7731507  0.68936067 0.52733923 0.28137019]\n",
      " [0.99810822 0.35620114 0.65807822 0.10317028 0.84280877 0.15486208]\n",
      " [0.94642014 0.07635618 0.59916508 0.78555326 0.50596161 0.34527188]\n",
      " [0.83659379 0.01562291 0.90682762 0.65449052 0.78251518 0.24111466]\n",
      " [0.7480135  0.2427438  0.45670117 0.38055419 0.15718575 0.10531641]\n",
      " [0.12107694 0.20364677 0.90383886 0.7399817  0.25396246 0.26277457]\n",
      " [0.00930639 0.15764266 0.00305105 0.81979102 0.14319233 0.04028957]\n",
      " [0.38848271 0.52680975 0.46176985 0.54984942 0.44202898 0.75911859]\n",
      " [0.57553031 0.10342749 0.00686763 0.60519692 0.03812021 0.83347583]\n",
      " [0.81368804 0.95756226 0.10431674 0.03995945 0.00503608 0.28152518]]\n",
      "[[0.24105159 0.18903829 0.7731507  0.68936067 0.52733923 0.28137019]\n",
      " [0.99810822 0.35620114 0.65807822 0.10317028 0.84280877 0.15486208]\n",
      " [0.         0.         0.         0.         0.         0.        ]\n",
      " [0.         0.         0.         0.         0.         0.        ]\n",
      " [0.7480135  0.2427438  0.45670117 0.38055419 0.15718575 0.10531641]\n",
      " [0.12107694 0.20364677 0.90383886 0.7399817  0.25396246 0.26277457]\n",
      " [0.         0.         0.         0.         0.         0.        ]\n",
      " [0.38848271 0.52680975 0.46176985 0.54984942 0.44202898 0.75911859]\n",
      " [0.         0.         0.         0.         0.         0.        ]\n",
      " [0.         0.         0.         0.         0.         0.        ]]\n"
     ]
    }
   ],
   "source": [
    "import numpy.random as npr\n",
    "randmat = npr.random(size=(10,6))\n",
    "print(randmat)\n",
    "#mask = np.where(randmat<0.1, 0,1)\n",
    "c = np.any(randmat<0.1, axis = 1)\n",
    "randmat[c] = 0\n",
    "print(randmat)"
   ]
  },
  {
   "cell_type": "markdown",
   "metadata": {},
   "source": [
    "4\\. Use np.linspace to create an array of 100 numbers between 0 and 2π (includsive).\n",
    "\n",
    "  * Extract every 10th element using slice notation\n",
    "  * Reverse the array using slice notation\n",
    "  * Extract elements where the absolute difference between the sine and cosine functions evaluated at that element is less than 0.1\n",
    "  * Make a plot showing the sin and cos functions and indicate where they are close"
   ]
  },
  {
   "cell_type": "code",
   "execution_count": 6,
   "metadata": {
    "tags": []
   },
   "outputs": [
    {
     "name": "stdout",
     "output_type": "stream",
     "text": [
      "[False False False False False False False False False False False False\n",
      "  True  True False False False False False False False False False False\n",
      " False False False False False False False False False False False False\n",
      " False False False False False False False False False False False False\n",
      " False False False False False False False False False False False False\n",
      " False  True  True False False False False False False False False False\n",
      " False False False False False False False False False False False False\n",
      " False False False False False False False False False False False False\n",
      " False False False False]\n",
      "[0.76159822 0.82506474 3.87145761 3.93492413]\n"
     ]
    }
   ],
   "source": [
    "duepigreco = np.linspace(0,(2*np.pi), 100)\n",
    "duepigreco_rev = duepigreco[::-1]\n",
    "#print(duepigreco[0], duepigreco_rev[0])\n",
    "epsilon = 0.1\n",
    "sin_duep = np.sin(duepigreco)\n",
    "cos_duep = np.cos(duepigreco)\n",
    "difference = abs(sin_duep - cos_duep)\n",
    "mask = (difference < 0.1)\n",
    "#print(mask)\n",
    "print(mask)\n",
    "extracted = duepigreco[mask]\n",
    "print(extracted)\n",
    "\n"
   ]
  },
  {
   "cell_type": "code",
   "execution_count": 7,
   "metadata": {
    "tags": []
   },
   "outputs": [],
   "source": [
    "import matplotlib.pyplot as plt"
   ]
  },
  {
   "cell_type": "code",
   "execution_count": 8,
   "metadata": {
    "tags": []
   },
   "outputs": [
    {
     "data": {
      "image/png": "[encoded data removed]",
      "text/plain": [
       "<Figure size 640x480 with 1 Axes>"
      ]
     },
     "metadata": {},
     "output_type": "display_data"
    }
   ],
   "source": [
    "plt.plot(duepigreco,sin_duep, 'o')\n",
    "plt.plot(duepigreco, cos_duep, 'o')\n",
    "plt.plot(extracted, sin_duep[mask], 'o')\n",
    "plt.show()"
   ]
  },
  {
   "cell_type": "markdown",
   "metadata": {},
   "source": [
    "5\\. Create a matrix that shows the 10 by 10 multiplication table.\n",
    "\n",
    " * Find the trace of the matrix\n",
    " * Extract the anto-diagonal (this should be ```array([10, 18, 24, 28, 30, 30, 28, 24, 18, 10])```)\n",
    " * Extract the diagnoal offset by 1 upwards (this should be ```array([ 2,  6, 12, 20, 30, 42, 56, 72, 90])```)"
   ]
  },
  {
   "cell_type": "code",
   "execution_count": 9,
   "metadata": {
    "tags": []
   },
   "outputs": [
    {
     "name": "stdout",
     "output_type": "stream",
     "text": [
      "[[  1   2   3   4   5   6   7   8   9  10]\n",
      " [  2   4   6   8  10  12  14  16  18  20]\n",
      " [  3   6   9  12  15  18  21  24  27  30]\n",
      " [  4   8  12  16  20  24  28  32  36  40]\n",
      " [  5  10  15  20  25  30  35  40  45  50]\n",
      " [  6  12  18  24  30  36  42  48  54  60]\n",
      " [  7  14  21  28  35  42  49  56  63  70]\n",
      " [  8  16  24  32  40  48  56  64  72  80]\n",
      " [  9  18  27  36  45  54  63  72  81  90]\n",
      " [ 10  20  30  40  50  60  70  80  90 100]]\n"
     ]
    }
   ],
   "source": [
    "a = np.arange(1,11,1)\n",
    "col = a.copy().reshape(10,1)\n",
    "benten = a* col\n",
    "print(benten)\n",
    "trace = np.trace(benten)\n",
    "antitrace = np.trace(benten[::-1])\n"
   ]
  },
  {
   "cell_type": "markdown",
   "metadata": {},
   "source": [
    "6\\. Use broadcasting to create a grid of distances\n",
    "\n",
    "Route 66 crosses the following cities in the US: Chicago, Springfield, Saint-Louis, Tulsa, Oklahoma City, Amarillo, Santa Fe, Albuquerque, Flagstaff, Los Angeles\n",
    "The corresponding positions in miles are: 0, 198, 303, 736, 871, 1175, 1475, 1544, 1913, 2448\n",
    "\n",
    "  * Construct a 2D grid of distances among each city along Route 66\n",
    "  * Convert that in km (those savages...)"
   ]
  },
  {
   "cell_type": "code",
   "execution_count": 10,
   "metadata": {
    "tags": []
   },
   "outputs": [
    {
     "data": {
      "text/plain": [
       "array([[   0. ,  316.8,  484.8, 1177.6, 1393.6, 1880. , 2360. , 2470.4,\n",
       "        3060.8, 3916.8],\n",
       "       [ 316.8,    0. ,  168. ,  860.8, 1076.8, 1563.2, 2043.2, 2153.6,\n",
       "        2744. , 3600. ],\n",
       "       [ 484.8,  168. ,    0. ,  692.8,  908.8, 1395.2, 1875.2, 1985.6,\n",
       "        2576. , 3432. ],\n",
       "       [1177.6,  860.8,  692.8,    0. ,  216. ,  702.4, 1182.4, 1292.8,\n",
       "        1883.2, 2739.2],\n",
       "       [1393.6, 1076.8,  908.8,  216. ,    0. ,  486.4,  966.4, 1076.8,\n",
       "        1667.2, 2523.2],\n",
       "       [1880. , 1563.2, 1395.2,  702.4,  486.4,    0. ,  480. ,  590.4,\n",
       "        1180.8, 2036.8],\n",
       "       [2360. , 2043.2, 1875.2, 1182.4,  966.4,  480. ,    0. ,  110.4,\n",
       "         700.8, 1556.8],\n",
       "       [2470.4, 2153.6, 1985.6, 1292.8, 1076.8,  590.4,  110.4,    0. ,\n",
       "         590.4, 1446.4],\n",
       "       [3060.8, 2744. , 2576. , 1883.2, 1667.2, 1180.8,  700.8,  590.4,\n",
       "           0. ,  856. ],\n",
       "       [3916.8, 3600. , 3432. , 2739.2, 2523.2, 2036.8, 1556.8, 1446.4,\n",
       "         856. ,    0. ]])"
      ]
     },
     "execution_count": 10,
     "metadata": {},
     "output_type": "execute_result"
    }
   ],
   "source": [
    "cities = [\"Chicago\", \"Springfield\", \"Saint-Louis\", \"Tulsa\", \"Oklahoma City\", \"Amarillo\", \"Santa Fe\", \"Albuquerque\", \"Flagstaff\", \"Los Angeles\"]\n",
    "mileage = [0, 198, 303, 736, 871, 1175, 1475, 1544, 1913, 2448]\n",
    "table = abs(np.array(mileage) - np.array(mileage).reshape(len(mileage),1))\n",
    "table_km = table * 1.6\n",
    "table_km"
   ]
  },
  {
   "cell_type": "markdown",
   "metadata": {},
   "source": [
    "7\\. Prime numbers sieve: compute the prime numbers in the 0-N (N=99 to start with) range with a sieve (mask).\n",
    "  * Constract a shape (100,) boolean array, the mask\n",
    "  * Identify the multiples of each number starting from 2 and set accordingly the corresponding mask element\n",
    "  * Apply the mask to obtain an array of ordered prime numbers\n",
    "  * Check the performances (timeit); how does it scale with N?\n",
    "  * Implement the optimization suggested in the [sieve of Eratosthenes](https://en.wikipedia.org/wiki/Sieve_of_Eratosthenes)"
   ]
  },
  {
   "cell_type": "code",
   "execution_count": 46,
   "metadata": {
    "tags": []
   },
   "outputs": [
    {
     "name": "stdout",
     "output_type": "stream",
     "text": [
      "[ 0  1  2  3  4  5  6  7  8  9 10 11 12 13 14 15 16 17 18 19 20 21 22 23\n",
      " 24 25 26 27 28 29 30 31 32 33 34 35 36 37 38 39 40 41 42 43 44 45 46 47\n",
      " 48 49 50 51 52 53 54 55 56 57 58 59 60 61 62 63 64 65 66 67 68 69 70 71\n",
      " 72 73 74 75 76 77 78 79 80 81 82 83 84 85 86 87 88 89 90 91 92 93 94 95\n",
      " 96 97 98 99]\n",
      "(100,)\n",
      "prime numbers are [ 2  3  5  7 11 13 17 19 23 29 31 37 41 43 47 53 59 61 67 71 73 79 83 89\n",
      " 97]\n"
     ]
    }
   ],
   "source": [
    "\n",
    "N = 100\n",
    "numbers = np.arange(0,N)\n",
    "mask = np.tile( True , len(numbers))\n",
    "mask[0] = False\n",
    "mask[1] = False\n",
    "for i in numbers[2:]:\n",
    "    for j in numbers[2:]:\n",
    "            if i*j < 100:\n",
    "                mask[i*j] = False\n",
    "\n",
    "print('prime numbers are', numbers[mask])\n"
   ]
  },
  {
   "cell_type": "markdown",
   "metadata": {},
   "source": [
    "**N.B. the following exercises are meant to be solved only if you are familiar with the numpy random library. If not you can skip them (postponed for one of the next exercise sessions)**\n"
   ]
  },
  {
   "cell_type": "markdown",
   "metadata": {},
   "source": [
    "8\\. Diffusion using random walk\n",
    "\n",
    "Consider a simple random walk process: at each step in time, a walker jumps right or left (+1 or -1) with equal probability. The goal is to find the typical distance from the origin of a random walker after a given amount of time. \n",
    "To do that, let's simulate many walkers and create a 2D array with each walker as a raw and the actual time evolution as columns\n",
    "\n",
    "  * Take 1000 walkers and let them walk for 200 steps\n",
    "  * Use randint to create a 2D array of size walkers x steps with values -1 or 1\n",
    "  * Build the actual walking distances for each walker (i.e. another 2D array \"summing on each raw\")\n",
    "  * Take the square of that 2D array (elementwise)\n",
    "  * Compute the mean of the squared distances at each step (i.e. the mean along the columns)\n",
    "  * Plot the average distances (sqrt(distance\\*\\*2)) as a function of time (step)\n",
    "  \n",
    "Did you get what you expected?"
   ]
  },
  {
   "cell_type": "markdown",
   "metadata": {},
   "source": [
    "9\\. Analyze a data file \n",
    "  * Download the population of hares, lynxes and carrots at the beginning of the last century.\n",
    "    ```python\n",
    "    ! wget https://www.dropbox.com/s/3vigxoqayo389uc/populations.txt\n",
    "    ```\n",
    "\n",
    "  * Check the content by looking within the file\n",
    "  * Load the data (use an appropriate numpy method) into a 2D array\n",
    "  * Create arrays out of the columns, the arrays being (in order): *year*, *hares*, *lynxes*, *carrots* \n",
    "  * Plot the 3 populations over the years\n",
    "  * Compute the main statistical properties of the dataset (mean, std, correlations, etc.)\n",
    "  * Which species has the highest population each year?\n",
    "\n",
    "Do you feel there is some evident correlation here? [Studies](https://www.enr.gov.nt.ca/en/services/lynx/lynx-snowshoe-hare-cycle) tend to believe so."
   ]
  }
 ],
 "metadata": {
  "kernelspec": {
   "display_name": "Python 3 (ipykernel)",
   "language": "python",
   "name": "python3"
  },
  "language_info": {
   "codemirror_mode": {
    "name": "ipython",
    "version": 3
   },
   "file_extension": ".py",
   "mimetype": "text/x-python",
   "name": "python",
   "nbconvert_exporter": "python",
   "pygments_lexer": "ipython3",
   "version": "3.12.4"
  }
 },
 "nbformat": 4,
 "nbformat_minor": 4
}
